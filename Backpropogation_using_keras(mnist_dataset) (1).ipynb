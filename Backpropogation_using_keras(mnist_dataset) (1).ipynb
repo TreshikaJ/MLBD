{
  "cells": [
    {
      "cell_type": "code",
      "execution_count": null,
      "metadata": {
        "id": "Qq2R3OGfzHv1"
      },
      "outputs": [],
      "source": [
        "import pandas as pd\n",
        "import numpy as np\n",
        "import tensorflow\n",
        "from tensorflow import keras\n",
        "from keras.models import Sequential\n",
        "from tensorflow.keras.layers import Dense,Flatten"
      ]
    },
    {
      "cell_type": "code",
      "execution_count": null,
      "metadata": {
        "id": "ZVy7ZyAuz5kH"
      },
      "outputs": [],
      "source": [
        "(x_train,y_train),(x_test,y_test)=keras.datasets.mnist.load_data()\n"
      ]
    },
    {
      "cell_type": "code",
      "execution_count": null,
      "metadata": {
        "colab": {
          "base_uri": "https://localhost:8080/"
        },
        "id": "RB4LUjmt0R8H",
        "outputId": "6d346081-a9df-41bc-d6ae-9d81c4307558"
      },
      "outputs": [
        {
          "data": {
            "text/plain": [
              "(60000, 28, 28)"
            ]
          },
          "execution_count": 11,
          "metadata": {},
          "output_type": "execute_result"
        }
      ],
      "source": [
        "x_train.shape"
      ]
    },
    {
      "cell_type": "code",
      "execution_count": null,
      "metadata": {
        "colab": {
          "base_uri": "https://localhost:8080/"
        },
        "id": "j-CjEUM81K4l",
        "outputId": "6b872410-90ae-479a-daca-358af1071bf4"
      },
      "outputs": [
        {
          "data": {
            "text/plain": [
              "(10000, 28, 28)"
            ]
          },
          "execution_count": 12,
          "metadata": {},
          "output_type": "execute_result"
        }
      ],
      "source": [
        "x_test.shape"
      ]
    },
    {
      "cell_type": "code",
      "execution_count": null,
      "metadata": {
        "colab": {
          "base_uri": "https://localhost:8080/",
          "height": 447
        },
        "id": "OKYhREbZ1MHD",
        "outputId": "6e935c83-5818-4cb2-edb3-438ed242e5e9"
      },
      "outputs": [
        {
          "data": {
            "text/plain": [
              "<matplotlib.image.AxesImage at 0x7e53cec7a290>"
            ]
          },
          "execution_count": 13,
          "metadata": {},
          "output_type": "execute_result"
        },
        {
          "data": {
            "image/png": "[encoded data removed]",
            "text/plain": [
              "<Figure size 640x480 with 1 Axes>"
            ]
          },
          "metadata": {},
          "output_type": "display_data"
        }
      ],
      "source": [
        "import matplotlib.pyplot as plt\n",
        "plt.imshow(x_train[0])"
      ]
    },
    {
      "cell_type": "code",
      "execution_count": null,
      "metadata": {
        "id": "E-DmxBDc1Y0r"
      },
      "outputs": [],
      "source": [
        "x_train=x_train/255\n",
        "x_test=x_test/255"
      ]
    },
    {
      "cell_type": "markdown",
      "metadata": {
        "id": "b4M4EW1X1n4I"
      },
      "source": [
        "**Single Hidden Layer**"
      ]
    },
    {
      "cell_type": "code",
      "execution_count": null,
      "metadata": {
        "id": "CWpjpS1-1k_z"
      },
      "outputs": [],
      "source": [
        "model=Sequential()"
      ]
    },
    {
      "cell_type": "code",
      "execution_count": null,
      "metadata": {
        "id": "s6UrUsDT5ULN"
      },
      "outputs": [],
      "source": [
        "\"\"\"Convert\n",
        "r1\n",
        "r2\n",
        "r3\n",
        "to r1r2r3 automatically convert 1d image to r1r2r3\n",
        "\"\"\"\n",
        "model.add(Flatten(input_shape=(28,28)))\n",
        "model.add(Dense(128,activation='relu'))\n",
        "model.add(Dense(10,activation='sigmoid'))"
      ]
    },
    {
      "cell_type": "code",
      "execution_count": null,
      "metadata": {
        "colab": {
          "base_uri": "https://localhost:8080/"
        },
        "id": "3bK8HQ5b6SH3",
        "outputId": "1e6906fa-a4ff-48c2-9ee2-1d225a88c1b7"
      },
      "outputs": [
        {
          "name": "stdout",
          "output_type": "stream",
          "text": [
            "Model: \"sequential_1\"\n",
            "_________________________________________________________________\n",
            " Layer (type)                Output Shape              Param #   \n",
            "=================================================================\n",
            " flatten_1 (Flatten)         (None, 784)               0         \n",
            "                                                                 \n",
            " dense_2 (Dense)             (None, 128)               100480    \n",
            "                                                                 \n",
            " dense_3 (Dense)             (None, 10)                1290      \n",
            "                                                                 \n",
            "=================================================================\n",
            "Total params: 101770 (397.54 KB)\n",
            "Trainable params: 101770 (397.54 KB)\n",
            "Non-trainable params: 0 (0.00 Byte)\n",
            "_________________________________________________________________\n"
          ]
        }
      ],
      "source": [
        "model.summary()"
      ]
    },
    {
      "cell_type": "code",
      "execution_count": null,
      "metadata": {
        "id": "S88U4_cc6VW7"
      },
      "outputs": [],
      "source": [
        "#In this labels need not be one_hot encoded in categorical cross entropy use on hot encoding\n",
        "\n",
        "model.compile(loss='sparse_categorical_crossentropy',optimizer='Adam',metrics=['accuracy'])"
      ]
    },
    {
      "cell_type": "markdown",
      "metadata": {
        "id": "JAFBstWTK_7d"
      },
      "source": [
        "**Tuning for different batch sizes**"
      ]
    },
    {
      "cell_type": "code",
      "execution_count": null,
      "metadata": {
        "colab": {
          "background_save": true,
          "base_uri": "https://localhost:8080/"
        },
        "id": "pWNYlQa7G-iF",
        "outputId": "a3cd37d1-a1a6-4572-f823-38e095ec8f50"
      },
      "outputs": [
        {
          "name": "stdout",
          "output_type": "stream",
          "text": [
            "Epoch 1/10\n",
            "24000/24000 [==============================] - 76s 3ms/step - loss: 0.2135 - accuracy: 0.9360 - val_loss: 0.1449 - val_accuracy: 0.9596\n",
            "Epoch 2/10\n",
            "24000/24000 [==============================] - 133s 6ms/step - loss: 0.1083 - accuracy: 0.9681 - val_loss: 0.1230 - val_accuracy: 0.9680\n",
            "Epoch 3/10\n",
            "24000/24000 [==============================] - 68s 3ms/step - loss: 0.0833 - accuracy: 0.9754 - val_loss: 0.1243 - val_accuracy: 0.9699\n",
            "Epoch 4/10\n",
            "24000/24000 [==============================] - 73s 3ms/step - loss: 0.0697 - accuracy: 0.9810 - val_loss: 0.1329 - val_accuracy: 0.9682\n",
            "Epoch 5/10\n",
            "24000/24000 [==============================] - 68s 3ms/step - loss: 0.0562 - accuracy: 0.9840 - val_loss: 0.1607 - val_accuracy: 0.9676\n",
            "Epoch 6/10\n",
            "24000/24000 [==============================] - 72s 3ms/step - loss: 0.0517 - accuracy: 0.9853 - val_loss: 0.1384 - val_accuracy: 0.9728\n",
            "Epoch 7/10\n",
            "24000/24000 [==============================] - 67s 3ms/step - loss: 0.0431 - accuracy: 0.9882 - val_loss: 0.1536 - val_accuracy: 0.9719\n",
            "Epoch 8/10\n",
            "24000/24000 [==============================] - 68s 3ms/step - loss: 0.0397 - accuracy: 0.9887 - val_loss: 0.1840 - val_accuracy: 0.9715\n",
            "Epoch 9/10\n",
            "24000/24000 [==============================] - 72s 3ms/step - loss: 0.0344 - accuracy: 0.9903 - val_loss: 0.2049 - val_accuracy: 0.9711\n",
            "Epoch 10/10\n",
            "24000/24000 [==============================] - 71s 3ms/step - loss: 0.0323 - accuracy: 0.9916 - val_loss: 0.2499 - val_accuracy: 0.9650\n"
          ]
        },
        {
          "data": {
            "text/plain": [
              "<keras.src.callbacks.History at 0x7e53d3871ba0>"
            ]
          },
          "execution_count": 22,
          "metadata": {},
          "output_type": "execute_result"
        }
      ],
      "source": [
        "model.fit(x_train,y_train,epochs=10,validation_split=0.2,batch_size=2)"
      ]
    },
    {
      "cell_type": "code",
      "execution_count": 23,
      "metadata": {
        "id": "O6pwPr_fHOvy",
        "colab": {
          "base_uri": "https://localhost:8080/"
        },
        "outputId": "b492c0b4-387e-46c7-d507-a4ad89543998"
      },
      "outputs": [
        {
          "output_type": "stream",
          "name": "stdout",
          "text": [
            "Epoch 1/10\n",
            "6000/6000 [==============================] - 24s 4ms/step - loss: 0.0127 - accuracy: 0.9960 - val_loss: 0.2016 - val_accuracy: 0.9722\n",
            "Epoch 2/10\n",
            "6000/6000 [==============================] - 24s 4ms/step - loss: 0.0094 - accuracy: 0.9972 - val_loss: 0.1631 - val_accuracy: 0.9767\n",
            "Epoch 3/10\n",
            "6000/6000 [==============================] - 21s 3ms/step - loss: 0.0074 - accuracy: 0.9976 - val_loss: 0.1947 - val_accuracy: 0.9763\n",
            "Epoch 4/10\n",
            "6000/6000 [==============================] - 21s 4ms/step - loss: 0.0071 - accuracy: 0.9976 - val_loss: 0.2196 - val_accuracy: 0.9743\n",
            "Epoch 5/10\n",
            "6000/6000 [==============================] - 19s 3ms/step - loss: 0.0060 - accuracy: 0.9978 - val_loss: 0.1978 - val_accuracy: 0.9778\n",
            "Epoch 6/10\n",
            "6000/6000 [==============================] - 19s 3ms/step - loss: 0.0060 - accuracy: 0.9981 - val_loss: 0.1967 - val_accuracy: 0.9751\n",
            "Epoch 7/10\n",
            "6000/6000 [==============================] - 21s 4ms/step - loss: 0.0069 - accuracy: 0.9981 - val_loss: 0.1968 - val_accuracy: 0.9766\n",
            "Epoch 8/10\n",
            "6000/6000 [==============================] - 19s 3ms/step - loss: 0.0048 - accuracy: 0.9985 - val_loss: 0.2065 - val_accuracy: 0.9762\n",
            "Epoch 9/10\n",
            "6000/6000 [==============================] - 19s 3ms/step - loss: 0.0056 - accuracy: 0.9981 - val_loss: 0.1993 - val_accuracy: 0.9786\n",
            "Epoch 10/10\n",
            "6000/6000 [==============================] - 19s 3ms/step - loss: 0.0030 - accuracy: 0.9991 - val_loss: 0.2032 - val_accuracy: 0.9778\n"
          ]
        },
        {
          "output_type": "execute_result",
          "data": {
            "text/plain": [
              "<keras.src.callbacks.History at 0x7e53d3872830>"
            ]
          },
          "metadata": {},
          "execution_count": 23
        }
      ],
      "source": [
        "model.fit(x_train,y_train,epochs=10,validation_split=0.2,batch_size=8)"
      ]
    },
    {
      "cell_type": "code",
      "execution_count": 24,
      "metadata": {
        "colab": {
          "base_uri": "https://localhost:8080/"
        },
        "id": "wgGM7FdOVI4z",
        "outputId": "170fa3b2-dfa9-4603-b2ad-3019c3e056c3"
      },
      "outputs": [
        {
          "output_type": "stream",
          "name": "stdout",
          "text": [
            "Epoch 1/10\n",
            "3000/3000 [==============================] - 10s 3ms/step - loss: 0.0021 - accuracy: 0.9993 - val_loss: 0.2027 - val_accuracy: 0.9784\n",
            "Epoch 2/10\n",
            "3000/3000 [==============================] - 11s 4ms/step - loss: 0.0015 - accuracy: 0.9996 - val_loss: 0.2023 - val_accuracy: 0.9781\n",
            "Epoch 3/10\n",
            "3000/3000 [==============================] - 11s 4ms/step - loss: 0.0023 - accuracy: 0.9992 - val_loss: 0.2108 - val_accuracy: 0.9778\n",
            "Epoch 4/10\n",
            "3000/3000 [==============================] - 10s 3ms/step - loss: 0.0015 - accuracy: 0.9995 - val_loss: 0.2108 - val_accuracy: 0.9783\n",
            "Epoch 5/10\n",
            "3000/3000 [==============================] - 10s 3ms/step - loss: 9.2410e-04 - accuracy: 0.9997 - val_loss: 0.2192 - val_accuracy: 0.9778\n",
            "Epoch 6/10\n",
            "3000/3000 [==============================] - 10s 3ms/step - loss: 0.0016 - accuracy: 0.9994 - val_loss: 0.2116 - val_accuracy: 0.9783\n",
            "Epoch 7/10\n",
            "3000/3000 [==============================] - 12s 4ms/step - loss: 0.0011 - accuracy: 0.9996 - val_loss: 0.2502 - val_accuracy: 0.9754\n",
            "Epoch 8/10\n",
            "3000/3000 [==============================] - 10s 3ms/step - loss: 0.0020 - accuracy: 0.9993 - val_loss: 0.2168 - val_accuracy: 0.9788\n",
            "Epoch 9/10\n",
            "3000/3000 [==============================] - 10s 3ms/step - loss: 0.0013 - accuracy: 0.9996 - val_loss: 0.2187 - val_accuracy: 0.9782\n",
            "Epoch 10/10\n",
            "3000/3000 [==============================] - 10s 3ms/step - loss: 5.1937e-04 - accuracy: 0.9998 - val_loss: 0.2546 - val_accuracy: 0.9755\n"
          ]
        },
        {
          "output_type": "execute_result",
          "data": {
            "text/plain": [
              "<keras.src.callbacks.History at 0x7e53d2f37fa0>"
            ]
          },
          "metadata": {},
          "execution_count": 24
        }
      ],
      "source": [
        "model.fit(x_train,y_train,epochs=10,validation_split=0.2,batch_size=16)"
      ]
    },
    {
      "cell_type": "code",
      "execution_count": 25,
      "metadata": {
        "id": "rka4eA21VWt7",
        "colab": {
          "base_uri": "https://localhost:8080/"
        },
        "outputId": "72768098-f4a6-495a-d91c-1daae12c1aaf"
      },
      "outputs": [
        {
          "output_type": "stream",
          "name": "stdout",
          "text": [
            "Epoch 1/10\n",
            "1500/1500 [==============================] - 6s 4ms/step - loss: 0.0018 - accuracy: 0.9995 - val_loss: 0.2331 - val_accuracy: 0.9775\n",
            "Epoch 2/10\n",
            "1500/1500 [==============================] - 5s 3ms/step - loss: 2.3920e-04 - accuracy: 1.0000 - val_loss: 0.2183 - val_accuracy: 0.9784\n",
            "Epoch 3/10\n",
            "1500/1500 [==============================] - 6s 4ms/step - loss: 1.1147e-05 - accuracy: 1.0000 - val_loss: 0.2202 - val_accuracy: 0.9785\n",
            "Epoch 4/10\n",
            "1500/1500 [==============================] - 5s 3ms/step - loss: 4.9772e-06 - accuracy: 1.0000 - val_loss: 0.2210 - val_accuracy: 0.9785\n",
            "Epoch 5/10\n",
            "1500/1500 [==============================] - 6s 4ms/step - loss: 3.5793e-06 - accuracy: 1.0000 - val_loss: 0.2231 - val_accuracy: 0.9786\n",
            "Epoch 6/10\n",
            "1500/1500 [==============================] - 5s 3ms/step - loss: 2.7590e-06 - accuracy: 1.0000 - val_loss: 0.2258 - val_accuracy: 0.9781\n",
            "Epoch 7/10\n",
            "1500/1500 [==============================] - 5s 3ms/step - loss: 1.8552e-06 - accuracy: 1.0000 - val_loss: 0.2289 - val_accuracy: 0.9783\n",
            "Epoch 8/10\n",
            "1500/1500 [==============================] - 7s 5ms/step - loss: 0.0027 - accuracy: 0.9991 - val_loss: 0.2577 - val_accuracy: 0.9761\n",
            "Epoch 9/10\n",
            "1500/1500 [==============================] - 5s 3ms/step - loss: 0.0014 - accuracy: 0.9995 - val_loss: 0.2501 - val_accuracy: 0.9772\n",
            "Epoch 10/10\n",
            "1500/1500 [==============================] - 6s 4ms/step - loss: 2.3960e-04 - accuracy: 0.9999 - val_loss: 0.2391 - val_accuracy: 0.9782\n"
          ]
        },
        {
          "output_type": "execute_result",
          "data": {
            "text/plain": [
              "<keras.src.callbacks.History at 0x7e53d2fcaad0>"
            ]
          },
          "metadata": {},
          "execution_count": 25
        }
      ],
      "source": [
        "model.fit(x_train,y_train,epochs=10,validation_split=0.2,batch_size=32)"
      ]
    },
    {
      "cell_type": "code",
      "execution_count": 26,
      "metadata": {
        "id": "KRNOFi-zWGl6",
        "colab": {
          "base_uri": "https://localhost:8080/"
        },
        "outputId": "5958cc8b-fea6-4ef9-e795-b2db3c1befbf"
      },
      "outputs": [
        {
          "output_type": "stream",
          "name": "stdout",
          "text": [
            "Epoch 1/10\n",
            "750/750 [==============================] - 3s 4ms/step - loss: 4.5913e-05 - accuracy: 1.0000 - val_loss: 0.2377 - val_accuracy: 0.9782\n",
            "Epoch 2/10\n",
            "750/750 [==============================] - 3s 4ms/step - loss: 1.0262e-05 - accuracy: 1.0000 - val_loss: 0.2376 - val_accuracy: 0.9783\n",
            "Epoch 3/10\n",
            "750/750 [==============================] - 4s 5ms/step - loss: 5.4906e-06 - accuracy: 1.0000 - val_loss: 0.2374 - val_accuracy: 0.9783\n",
            "Epoch 4/10\n",
            "750/750 [==============================] - 3s 4ms/step - loss: 4.3926e-06 - accuracy: 1.0000 - val_loss: 0.2372 - val_accuracy: 0.9783\n",
            "Epoch 5/10\n",
            "750/750 [==============================] - 3s 4ms/step - loss: 3.6031e-06 - accuracy: 1.0000 - val_loss: 0.2370 - val_accuracy: 0.9783\n",
            "Epoch 6/10\n",
            "750/750 [==============================] - 3s 4ms/step - loss: 2.9512e-06 - accuracy: 1.0000 - val_loss: 0.2370 - val_accuracy: 0.9784\n",
            "Epoch 7/10\n",
            "750/750 [==============================] - 4s 5ms/step - loss: 2.4207e-06 - accuracy: 1.0000 - val_loss: 0.2369 - val_accuracy: 0.9784\n",
            "Epoch 8/10\n",
            "750/750 [==============================] - 4s 5ms/step - loss: 2.0222e-06 - accuracy: 1.0000 - val_loss: 0.2369 - val_accuracy: 0.9783\n",
            "Epoch 9/10\n",
            "750/750 [==============================] - 3s 4ms/step - loss: 1.6540e-06 - accuracy: 1.0000 - val_loss: 0.2370 - val_accuracy: 0.9783\n",
            "Epoch 10/10\n",
            "750/750 [==============================] - 4s 5ms/step - loss: 1.3351e-06 - accuracy: 1.0000 - val_loss: 0.2372 - val_accuracy: 0.9783\n"
          ]
        },
        {
          "output_type": "execute_result",
          "data": {
            "text/plain": [
              "<keras.src.callbacks.History at 0x7e53d2fe30d0>"
            ]
          },
          "metadata": {},
          "execution_count": 26
        }
      ],
      "source": [
        "model.fit(x_train,y_train,epochs=10,validation_split=0.2,batch_size=64)"
      ]
    },
    {
      "cell_type": "code",
      "source": [
        "model.fit(x_train,y_train,epochs=10,validation_split=0.2,batch_size=128)"
      ],
      "metadata": {
        "colab": {
          "base_uri": "https://localhost:8080/"
        },
        "id": "RY6P5F3nczHT",
        "outputId": "c3e52999-9a55-4b6d-8853-6dc499d0739d"
      },
      "execution_count": 27,
      "outputs": [
        {
          "output_type": "stream",
          "name": "stdout",
          "text": [
            "Epoch 1/10\n",
            "375/375 [==============================] - 2s 6ms/step - loss: 1.0884e-06 - accuracy: 1.0000 - val_loss: 0.2374 - val_accuracy: 0.9783\n",
            "Epoch 2/10\n",
            "375/375 [==============================] - 2s 5ms/step - loss: 9.8262e-07 - accuracy: 1.0000 - val_loss: 0.2377 - val_accuracy: 0.9783\n",
            "Epoch 3/10\n",
            "375/375 [==============================] - 3s 8ms/step - loss: 8.8805e-07 - accuracy: 1.0000 - val_loss: 0.2378 - val_accuracy: 0.9783\n",
            "Epoch 4/10\n",
            "375/375 [==============================] - 2s 5ms/step - loss: 7.9870e-07 - accuracy: 1.0000 - val_loss: 0.2383 - val_accuracy: 0.9785\n",
            "Epoch 5/10\n",
            "375/375 [==============================] - 2s 5ms/step - loss: 7.2327e-07 - accuracy: 1.0000 - val_loss: 0.2385 - val_accuracy: 0.9785\n",
            "Epoch 6/10\n",
            "375/375 [==============================] - 2s 5ms/step - loss: 6.5173e-07 - accuracy: 1.0000 - val_loss: 0.2387 - val_accuracy: 0.9785\n",
            "Epoch 7/10\n",
            "375/375 [==============================] - 2s 5ms/step - loss: 5.8938e-07 - accuracy: 1.0000 - val_loss: 0.2391 - val_accuracy: 0.9784\n",
            "Epoch 8/10\n",
            "375/375 [==============================] - 2s 5ms/step - loss: 5.3170e-07 - accuracy: 1.0000 - val_loss: 0.2395 - val_accuracy: 0.9784\n",
            "Epoch 9/10\n",
            "375/375 [==============================] - 3s 7ms/step - loss: 4.8380e-07 - accuracy: 1.0000 - val_loss: 0.2402 - val_accuracy: 0.9783\n",
            "Epoch 10/10\n",
            "375/375 [==============================] - 2s 5ms/step - loss: 4.3375e-07 - accuracy: 1.0000 - val_loss: 0.2404 - val_accuracy: 0.9786\n"
          ]
        },
        {
          "output_type": "execute_result",
          "data": {
            "text/plain": [
              "<keras.src.callbacks.History at 0x7e53d3738790>"
            ]
          },
          "metadata": {},
          "execution_count": 27
        }
      ]
    },
    {
      "cell_type": "code",
      "source": [
        "model.fit(x_train,y_train,epochs=10,validation_split=0.2,batch_size=1024)"
      ],
      "metadata": {
        "colab": {
          "base_uri": "https://localhost:8080/"
        },
        "id": "QZYm9puqgv-J",
        "outputId": "cdb763fd-48ed-4feb-c467-a35aa659a08f"
      },
      "execution_count": 32,
      "outputs": [
        {
          "output_type": "stream",
          "name": "stdout",
          "text": [
            "Epoch 1/10\n",
            "47/47 [==============================] - 1s 20ms/step - loss: 3.7948e-07 - accuracy: 1.0000 - val_loss: 0.2405 - val_accuracy: 0.9785\n",
            "Epoch 2/10\n",
            "47/47 [==============================] - 1s 15ms/step - loss: 3.7456e-07 - accuracy: 1.0000 - val_loss: 0.2406 - val_accuracy: 0.9785\n",
            "Epoch 3/10\n",
            "47/47 [==============================] - 1s 16ms/step - loss: 3.6982e-07 - accuracy: 1.0000 - val_loss: 0.2407 - val_accuracy: 0.9785\n",
            "Epoch 4/10\n",
            "47/47 [==============================] - 1s 17ms/step - loss: 3.6492e-07 - accuracy: 1.0000 - val_loss: 0.2407 - val_accuracy: 0.9785\n",
            "Epoch 5/10\n",
            "47/47 [==============================] - 1s 25ms/step - loss: 3.6030e-07 - accuracy: 1.0000 - val_loss: 0.2408 - val_accuracy: 0.9785\n",
            "Epoch 6/10\n",
            "47/47 [==============================] - 1s 17ms/step - loss: 3.5624e-07 - accuracy: 1.0000 - val_loss: 0.2408 - val_accuracy: 0.9785\n",
            "Epoch 7/10\n",
            "47/47 [==============================] - 1s 15ms/step - loss: 3.5203e-07 - accuracy: 1.0000 - val_loss: 0.2409 - val_accuracy: 0.9784\n",
            "Epoch 8/10\n",
            "47/47 [==============================] - 1s 15ms/step - loss: 3.4728e-07 - accuracy: 1.0000 - val_loss: 0.2409 - val_accuracy: 0.9785\n",
            "Epoch 9/10\n",
            "47/47 [==============================] - 1s 15ms/step - loss: 3.4269e-07 - accuracy: 1.0000 - val_loss: 0.2409 - val_accuracy: 0.9785\n",
            "Epoch 10/10\n",
            "47/47 [==============================] - 1s 15ms/step - loss: 3.3857e-07 - accuracy: 1.0000 - val_loss: 0.2410 - val_accuracy: 0.9785\n"
          ]
        },
        {
          "output_type": "execute_result",
          "data": {
            "text/plain": [
              "<keras.src.callbacks.History at 0x7e53d2f37a90>"
            ]
          },
          "metadata": {},
          "execution_count": 32
        }
      ]
    },
    {
      "cell_type": "code",
      "source": [
        "model.fit(x_train,y_train,epochs=10,validation_split=0.2,batch_size=60000)"
      ],
      "metadata": {
        "colab": {
          "base_uri": "https://localhost:8080/"
        },
        "id": "bH5X0oG6hW9Y",
        "outputId": "64252fb4-2c60-4d70-dd45-1403e7de01c3"
      },
      "execution_count": 34,
      "outputs": [
        {
          "output_type": "stream",
          "name": "stdout",
          "text": [
            "Epoch 1/10\n",
            "1/1 [==============================] - 1s 997ms/step - loss: 3.3183e-07 - accuracy: 1.0000 - val_loss: 0.2411 - val_accuracy: 0.9784\n",
            "Epoch 2/10\n",
            "1/1 [==============================] - 1s 636ms/step - loss: 3.3174e-07 - accuracy: 1.0000 - val_loss: 0.2411 - val_accuracy: 0.9784\n",
            "Epoch 3/10\n",
            "1/1 [==============================] - 1s 583ms/step - loss: 3.3165e-07 - accuracy: 1.0000 - val_loss: 0.2411 - val_accuracy: 0.9784\n",
            "Epoch 4/10\n",
            "1/1 [==============================] - 1s 643ms/step - loss: 3.3155e-07 - accuracy: 1.0000 - val_loss: 0.2411 - val_accuracy: 0.9784\n",
            "Epoch 5/10\n",
            "1/1 [==============================] - 1s 640ms/step - loss: 3.3144e-07 - accuracy: 1.0000 - val_loss: 0.2411 - val_accuracy: 0.9784\n",
            "Epoch 6/10\n",
            "1/1 [==============================] - 1s 579ms/step - loss: 3.3134e-07 - accuracy: 1.0000 - val_loss: 0.2411 - val_accuracy: 0.9784\n",
            "Epoch 7/10\n",
            "1/1 [==============================] - 1s 548ms/step - loss: 3.3126e-07 - accuracy: 1.0000 - val_loss: 0.2411 - val_accuracy: 0.9784\n",
            "Epoch 8/10\n",
            "1/1 [==============================] - 1s 574ms/step - loss: 3.3116e-07 - accuracy: 1.0000 - val_loss: 0.2411 - val_accuracy: 0.9784\n",
            "Epoch 9/10\n",
            "1/1 [==============================] - 0s 499ms/step - loss: 3.3107e-07 - accuracy: 1.0000 - val_loss: 0.2411 - val_accuracy: 0.9784\n",
            "Epoch 10/10\n",
            "1/1 [==============================] - 1s 575ms/step - loss: 3.3099e-07 - accuracy: 1.0000 - val_loss: 0.2411 - val_accuracy: 0.9784\n"
          ]
        },
        {
          "output_type": "execute_result",
          "data": {
            "text/plain": [
              "<keras.src.callbacks.History at 0x7e53d2f373d0>"
            ]
          },
          "metadata": {},
          "execution_count": 34
        }
      ]
    },
    {
      "cell_type": "code",
      "source": [
        "history=model.fit(x_train,y_train,epochs=10,validation_split=0.2,batch_size=8)"
      ],
      "metadata": {
        "colab": {
          "base_uri": "https://localhost:8080/"
        },
        "id": "y5XsJ0oVnbgN",
        "outputId": "56723dbc-1f32-40a3-9076-dc57f0e8eeea"
      },
      "execution_count": 55,
      "outputs": [
        {
          "output_type": "stream",
          "name": "stdout",
          "text": [
            "Epoch 1/10\n",
            "6000/6000 [==============================] - 19s 3ms/step - loss: 0.0038 - accuracy: 0.9990 - val_loss: 0.2735 - val_accuracy: 0.9756\n",
            "Epoch 2/10\n",
            "6000/6000 [==============================] - 23s 4ms/step - loss: 0.0031 - accuracy: 0.9991 - val_loss: 0.2843 - val_accuracy: 0.9747\n",
            "Epoch 3/10\n",
            "6000/6000 [==============================] - 25s 4ms/step - loss: 0.0039 - accuracy: 0.9987 - val_loss: 0.2903 - val_accuracy: 0.9769\n",
            "Epoch 4/10\n",
            "6000/6000 [==============================] - 18s 3ms/step - loss: 0.0039 - accuracy: 0.9990 - val_loss: 0.2721 - val_accuracy: 0.9776\n",
            "Epoch 5/10\n",
            "6000/6000 [==============================] - 18s 3ms/step - loss: 0.0023 - accuracy: 0.9994 - val_loss: 0.2836 - val_accuracy: 0.9764\n",
            "Epoch 6/10\n",
            "6000/6000 [==============================] - 18s 3ms/step - loss: 0.0032 - accuracy: 0.9991 - val_loss: 0.2764 - val_accuracy: 0.9776\n",
            "Epoch 7/10\n",
            "6000/6000 [==============================] - 18s 3ms/step - loss: 0.0029 - accuracy: 0.9991 - val_loss: 0.2907 - val_accuracy: 0.9768\n",
            "Epoch 8/10\n",
            "6000/6000 [==============================] - 19s 3ms/step - loss: 0.0040 - accuracy: 0.9989 - val_loss: 0.2966 - val_accuracy: 0.9747\n",
            "Epoch 9/10\n",
            "6000/6000 [==============================] - 20s 3ms/step - loss: 0.0024 - accuracy: 0.9992 - val_loss: 0.3223 - val_accuracy: 0.9745\n",
            "Epoch 10/10\n",
            "6000/6000 [==============================] - 18s 3ms/step - loss: 0.0042 - accuracy: 0.9989 - val_loss: 0.3003 - val_accuracy: 0.9765\n"
          ]
        }
      ]
    },
    {
      "cell_type": "code",
      "source": [
        "y_prob=model.predict(x_test)"
      ],
      "metadata": {
        "colab": {
          "base_uri": "https://localhost:8080/"
        },
        "id": "IJ_C1CDrlnPd",
        "outputId": "bbfd4ca9-fb63-49c8-db3b-9e7d3e9b73af"
      },
      "execution_count": 49,
      "outputs": [
        {
          "output_type": "stream",
          "name": "stdout",
          "text": [
            "313/313 [==============================] - 1s 3ms/step\n"
          ]
        }
      ]
    },
    {
      "cell_type": "code",
      "source": [
        "y_pred=y_prob.argmax(axis=1)"
      ],
      "metadata": {
        "id": "ocRXNQfGldiW"
      },
      "execution_count": 50,
      "outputs": []
    },
    {
      "cell_type": "code",
      "source": [
        "from sklearn.metrics import accuracy_score\n",
        "score=accuracy_score(y_test,y_pred)\n",
        "print(f\"Accuracy score:{score*100}\")"
      ],
      "metadata": {
        "colab": {
          "base_uri": "https://localhost:8080/"
        },
        "id": "qH_Q9lsTmCnH",
        "outputId": "9f84237f-3b07-4a86-ceb8-c3d62a453108"
      },
      "execution_count": 51,
      "outputs": [
        {
          "output_type": "stream",
          "name": "stdout",
          "text": [
            "Accuracy score:98.02\n"
          ]
        }
      ]
    },
    {
      "cell_type": "code",
      "source": [
        "plt.plot(history.history['loss'],color='r')\n",
        "plt.plot(history.history['val_loss'],color='g')"
      ],
      "metadata": {
        "colab": {
          "base_uri": "https://localhost:8080/",
          "height": 447
        },
        "id": "oL8iOcePp4ns",
        "outputId": "a6d0a8ce-069e-4581-b981-c5552e11548d"
      },
      "execution_count": 68,
      "outputs": [
        {
          "output_type": "execute_result",
          "data": {
            "text/plain": [
              "[<matplotlib.lines.Line2D at 0x7e53a58f9570>]"
            ]
          },
          "metadata": {},
          "execution_count": 68
        },
        {
          "output_type": "display_data",
          "data": {
            "text/plain": [
              "<Figure size 640x480 with 1 Axes>"
            ],
            "image/png": "[encoded data removed]"
          },
          "metadata": {}
        }
      ]
    },
    {
      "cell_type": "code",
      "source": [
        "plt.plot(history.history['accuracy'],color='r')\n",
        "plt.plot(history.history['val_accuracy'],color='g')"
      ],
      "metadata": {
        "colab": {
          "base_uri": "https://localhost:8080/",
          "height": 447
        },
        "id": "ikbwMiPQqHBv",
        "outputId": "6f21880c-2255-4143-a323-cab9bde841d6"
      },
      "execution_count": 69,
      "outputs": [
        {
          "output_type": "execute_result",
          "data": {
            "text/plain": [
              "[<matplotlib.lines.Line2D at 0x7e53a57d2bf0>]"
            ]
          },
          "metadata": {},
          "execution_count": 69
        },
        {
          "output_type": "display_data",
          "data": {
            "text/plain": [
              "<Figure size 640x480 with 1 Axes>"
            ],
            "image/png": "[encoded data removed]"
          },
          "metadata": {}
        }
      ]
    },
    {
      "cell_type": "code",
      "source": [
        "model=Sequential()\n",
        "model.add(Flatten(input_shape=(28,28)))\n",
        "model.add(Dense(384,activation='relu'))\n",
        "model.add(Dense(10,activation='relu'))"
      ],
      "metadata": {
        "id": "R7YJ7_FCry2P"
      },
      "execution_count": 72,
      "outputs": []
    },
    {
      "cell_type": "code",
      "source": [
        "model.compile(loss='sparse_categorical_crossentropy',optimizer='Adam',metrics=['accuracy'])"
      ],
      "metadata": {
        "id": "ahbRdkzrsnvk"
      },
      "execution_count": 73,
      "outputs": []
    },
    {
      "cell_type": "code",
      "source": [
        "model.fit(x_train,y_train,batch_size=2,epochs=10,validation_split=0.2)"
      ],
      "metadata": {
        "colab": {
          "base_uri": "https://localhost:8080/"
        },
        "id": "S6yFnH6NtARt",
        "outputId": "1d711382-432a-4dbc-d693-2187db36f1e2"
      },
      "execution_count": 74,
      "outputs": [
        {
          "output_type": "stream",
          "name": "stdout",
          "text": [
            "Epoch 1/10\n",
            "24000/24000 [==============================] - 113s 5ms/step - loss: 2.3068 - accuracy: 0.0986 - val_loss: 2.3027 - val_accuracy: 0.0995\n",
            "Epoch 2/10\n",
            "24000/24000 [==============================] - 105s 4ms/step - loss: 2.3019 - accuracy: 0.0985 - val_loss: 2.3027 - val_accuracy: 0.0995\n",
            "Epoch 3/10\n",
            "24000/24000 [==============================] - 105s 4ms/step - loss: 2.3019 - accuracy: 0.0985 - val_loss: 2.3027 - val_accuracy: 0.0995\n",
            "Epoch 4/10\n",
            "24000/24000 [==============================] - 117s 5ms/step - loss: 2.3019 - accuracy: 0.0985 - val_loss: 2.3027 - val_accuracy: 0.0995\n",
            "Epoch 5/10\n",
            "24000/24000 [==============================] - 105s 4ms/step - loss: 2.3019 - accuracy: 0.0985 - val_loss: 2.3027 - val_accuracy: 0.0995\n",
            "Epoch 6/10\n",
            "24000/24000 [==============================] - 97s 4ms/step - loss: 2.3019 - accuracy: 0.0985 - val_loss: 2.3027 - val_accuracy: 0.0995\n",
            "Epoch 7/10\n",
            "24000/24000 [==============================] - 108s 5ms/step - loss: 2.3019 - accuracy: 0.0985 - val_loss: 2.3027 - val_accuracy: 0.0995\n",
            "Epoch 8/10\n",
            "24000/24000 [==============================] - 97s 4ms/step - loss: 2.3019 - accuracy: 0.0985 - val_loss: 2.3027 - val_accuracy: 0.0995\n",
            "Epoch 9/10\n",
            "24000/24000 [==============================] - 105s 4ms/step - loss: 2.3019 - accuracy: 0.0985 - val_loss: 2.3027 - val_accuracy: 0.0995\n",
            "Epoch 10/10\n",
            "24000/24000 [==============================] - 122s 5ms/step - loss: 2.3019 - accuracy: 0.0985 - val_loss: 2.3027 - val_accuracy: 0.0995\n"
          ]
        },
        {
          "output_type": "execute_result",
          "data": {
            "text/plain": [
              "<keras.src.callbacks.History at 0x7e53a58f7790>"
            ]
          },
          "metadata": {},
          "execution_count": 74
        }
      ]
    },
    {
      "cell_type": "code",
      "source": [
        "from sklearn.metrics import accuracy_score\n",
        "from sklearn.metrics import precision_score, f1_score\n",
        "precision = precision_score(y_test, y_pred,average='weighted')\n",
        "print(f'Precision score {precision*100}')\n",
        "f1 = f1_score(y_test, y_pred,average='weighted')\n",
        "print(f'F1 score {f1*100}')\n",
        "acc_score=accuracy_score(y_test,y_pred)\n",
        "print(f\"Accuracy Score {acc_score*100}\")"
      ],
      "metadata": {
        "colab": {
          "base_uri": "https://localhost:8080/"
        },
        "id": "7HPvhUYPxeO_",
        "outputId": "86d2f644-7766-45f9-8577-524405c34c19"
      },
      "execution_count": 92,
      "outputs": [
        {
          "output_type": "stream",
          "name": "stdout",
          "text": [
            "Precision score 98.02064739691238\n",
            "F1 score 98.01948272202148\n",
            "Accuracy Score 98.02\n"
          ]
        }
      ]
    },
    {
      "cell_type": "code",
      "source": [
        "from sklearn.metrics import confusion_matrix\n",
        "cm = confusion_matrix(y_test, y_pred)\n",
        "print(f'confusion matrix accuracy:{cm}')"
      ],
      "metadata": {
        "colab": {
          "base_uri": "https://localhost:8080/"
        },
        "id": "OLcRjo4pyZuF",
        "outputId": "7ecfecc1-5dfb-4ca5-cce9-77a3be1fde27"
      },
      "execution_count": 80,
      "outputs": [
        {
          "output_type": "stream",
          "name": "stdout",
          "text": [
            "confusion matrix accuracy:[[ 973    0    1    0    0    1    2    1    1    1]\n",
            " [   0 1124    4    3    0    0    1    0    3    0]\n",
            " [   1    2 1010    1    3    0    3    7    5    0]\n",
            " [   0    0    6  992    0    3    0    3    6    0]\n",
            " [   1    1    1    1  959    0    5    1    1   12]\n",
            " [   2    0    0    9    0  871    5    0    3    2]\n",
            " [   2    2    2    1    3    3  944    0    0    1]\n",
            " [   2    2    7    4    0    0    0 1005    2    6]\n",
            " [   5    1    3    4    3    4    2    2  946    4]\n",
            " [   2    2    0    6   11    2    0    5    3  978]]\n"
          ]
        }
      ]
    },
    {
      "cell_type": "markdown",
      "source": [
        "**Hidden layers=2**"
      ],
      "metadata": {
        "id": "VrEr_3nwpohq"
      }
    },
    {
      "cell_type": "code",
      "source": [
        "model=Sequential()\n",
        "model.add(Flatten(input_shape=(28,28)))\n",
        "model.add(Dense(128,activation='relu'))\n",
        "model.add(Dense(32,activation='relu'))\n",
        "model.add(Dense(10,activation='sigmoid'))"
      ],
      "metadata": {
        "id": "vonHnlo9poB6"
      },
      "execution_count": 93,
      "outputs": []
    },
    {
      "cell_type": "code",
      "source": [
        "model.compile(loss='sparse_categorical_crossentropy',optimizer='Adam',metrics=['accuracy'])"
      ],
      "metadata": {
        "id": "aZZCY0ASnL0c"
      },
      "execution_count": 94,
      "outputs": []
    },
    {
      "cell_type": "code",
      "source": [
        "model.fit(x_train,y_train,batch_size=2,epochs=10,validation_split=0.2)"
      ],
      "metadata": {
        "colab": {
          "base_uri": "https://localhost:8080/"
        },
        "id": "hLxnurmC1n00",
        "outputId": "b245a97b-cbfc-4e61-ec19-e4e467771df3"
      },
      "execution_count": 95,
      "outputs": [
        {
          "output_type": "stream",
          "name": "stdout",
          "text": [
            "Epoch 1/10\n",
            "24000/24000 [==============================] - 114s 5ms/step - loss: 0.2342 - accuracy: 0.9298 - val_loss: 0.1395 - val_accuracy: 0.9607\n",
            "Epoch 2/10\n",
            "24000/24000 [==============================] - 93s 4ms/step - loss: 0.1222 - accuracy: 0.9644 - val_loss: 0.1334 - val_accuracy: 0.9645\n",
            "Epoch 3/10\n",
            "24000/24000 [==============================] - 104s 4ms/step - loss: 0.0955 - accuracy: 0.9720 - val_loss: 0.1264 - val_accuracy: 0.9675\n",
            "Epoch 4/10\n",
            "24000/24000 [==============================] - 100s 4ms/step - loss: 0.0811 - accuracy: 0.9768 - val_loss: 0.1338 - val_accuracy: 0.9630\n",
            "Epoch 5/10\n",
            "24000/24000 [==============================] - 93s 4ms/step - loss: 0.0705 - accuracy: 0.9798 - val_loss: 0.1348 - val_accuracy: 0.9713\n",
            "Epoch 6/10\n",
            "24000/24000 [==============================] - 115s 5ms/step - loss: 0.0648 - accuracy: 0.9812 - val_loss: 0.1460 - val_accuracy: 0.9679\n",
            "Epoch 7/10\n",
            "24000/24000 [==============================] - 92s 4ms/step - loss: 0.0581 - accuracy: 0.9837 - val_loss: 0.1942 - val_accuracy: 0.9672\n",
            "Epoch 8/10\n",
            "24000/24000 [==============================] - 88s 4ms/step - loss: 0.0541 - accuracy: 0.9853 - val_loss: 0.1631 - val_accuracy: 0.9732\n",
            "Epoch 9/10\n",
            "24000/24000 [==============================] - 87s 4ms/step - loss: 0.0514 - accuracy: 0.9867 - val_loss: 0.2014 - val_accuracy: 0.9712\n",
            "Epoch 10/10\n",
            "24000/24000 [==============================] - 93s 4ms/step - loss: 0.0493 - accuracy: 0.9872 - val_loss: 0.1973 - val_accuracy: 0.9731\n"
          ]
        },
        {
          "output_type": "execute_result",
          "data": {
            "text/plain": [
              "<keras.src.callbacks.History at 0x7e53a56bea70>"
            ]
          },
          "metadata": {},
          "execution_count": 95
        }
      ]
    },
    {
      "cell_type": "markdown",
      "source": [],
      "metadata": {
        "id": "oSD4dK1PlWJo"
      }
    },
    {
      "cell_type": "code",
      "source": [
        "from sklearn.metrics import accuracy_score\n",
        "from sklearn.metrics import precision_score, f1_score, roc_auc_score\n",
        "precision = precision_score(y_test, y_pred,average='weighted')\n",
        "print(f'Precision score {precision*100}')\n",
        "f1 = f1_score(y_test, y_pred,average='weighted')\n",
        "print(f'F1 score {f1*100}')\n",
        "acc_score=accuracy_score(y_test,y_pred)\n",
        "print(f\"Accuracy Score {acc_score*100}\")"
      ],
      "metadata": {
        "colab": {
          "base_uri": "https://localhost:8080/"
        },
        "id": "U1qNy8G42CvL",
        "outputId": "2e97700f-3b1b-4dbb-fc20-8588e64d8eb8"
      },
      "execution_count": 98,
      "outputs": [
        {
          "output_type": "stream",
          "name": "stdout",
          "text": [
            "Precision score 98.02064739691238\n",
            "F1 score 98.01948272202148\n",
            "Accuracy Score 98.02\n"
          ]
        }
      ]
    },
    {
      "cell_type": "code",
      "source": [
        "!pip install keras-tuner"
      ],
      "metadata": {
        "colab": {
          "base_uri": "https://localhost:8080/"
        },
        "id": "RpqQKfrtlVVu",
        "outputId": "4ad8cad5-fc84-4fe1-8e82-c9ce5f753c80"
      },
      "execution_count": 99,
      "outputs": [
        {
          "output_type": "stream",
          "name": "stdout",
          "text": [
            "Requirement already satisfied: keras-tuner in /usr/local/lib/python3.10/dist-packages (1.4.6)\n",
            "Requirement already satisfied: keras in /usr/local/lib/python3.10/dist-packages (from keras-tuner) (2.15.0)\n",
            "Requirement already satisfied: packaging in /usr/local/lib/python3.10/dist-packages (from keras-tuner) (23.2)\n",
            "Requirement already satisfied: requests in /usr/local/lib/python3.10/dist-packages (from keras-tuner) (2.31.0)\n",
            "Requirement already satisfied: kt-legacy in /usr/local/lib/python3.10/dist-packages (from keras-tuner) (1.0.5)\n",
            "Requirement already satisfied: charset-normalizer<4,>=2 in /usr/local/lib/python3.10/dist-packages (from requests->keras-tuner) (3.3.2)\n",
            "Requirement already satisfied: idna<4,>=2.5 in /usr/local/lib/python3.10/dist-packages (from requests->keras-tuner) (3.6)\n",
            "Requirement already satisfied: urllib3<3,>=1.21.1 in /usr/local/lib/python3.10/dist-packages (from requests->keras-tuner) (2.0.7)\n",
            "Requirement already satisfied: certifi>=2017.4.17 in /usr/local/lib/python3.10/dist-packages (from requests->keras-tuner) (2023.11.17)\n"
          ]
        }
      ]
    },
    {
      "cell_type": "code",
      "source": [
        "import keras_tuner\n",
        "import keras\n",
        "from keras import layers"
      ],
      "metadata": {
        "id": "iq1eUHnlipkq"
      },
      "execution_count": 100,
      "outputs": []
    },
    {
      "cell_type": "markdown",
      "source": [
        "Step1:\n",
        "Define model and specify hyperparameter searchspace"
      ],
      "metadata": {
        "id": "4KWsSPoRiD9k"
      }
    },
    {
      "cell_type": "code",
      "source": [
        "def call_existing_code(units, activation, lr):\n",
        "    model = keras.Sequential()\n",
        "    model.add(layers.Flatten())\n",
        "    model.add(layers.Dense(units=units, activation=activation))\n",
        "    model.add(layers.Dense(10, activation=\"softmax\"))\n",
        "    model.compile(\n",
        "        optimizer=keras.optimizers.Adam(learning_rate=lr),\n",
        "        loss=\"categorical_crossentropy\",\n",
        "        metrics=[\"accuracy\"],\n",
        "    )\n",
        "    return model\n",
        "\n",
        "\n",
        "def build_model(hp):\n",
        "    units = hp.Int(\"units\", min_value=32, max_value=512, step=1)\n",
        "    activation = hp.Choice(\"activation\", [\"relu\", \"tanh\"])\n",
        "    lr = hp.Float(\"lr\", min_value=1e-4, max_value=1e-2, sampling=\"log\")\n",
        "    # call existing model-building code with the hyperparameter values.\n",
        "    model = call_existing_code(\n",
        "        units=units, activation=activation, lr=lr\n",
        "    )\n",
        "    return model\n",
        "\n",
        "\n",
        "build_model(keras_tuner.HyperParameters())"
      ],
      "metadata": {
        "colab": {
          "base_uri": "https://localhost:8080/"
        },
        "id": "o5D9uU_-iB8G",
        "outputId": "38976e32-0293-4ec5-e13b-a87324049c73"
      },
      "execution_count": 104,
      "outputs": [
        {
          "output_type": "execute_result",
          "data": {
            "text/plain": [
              "<keras.src.engine.sequential.Sequential at 0x7e53a57034c0>"
            ]
          },
          "metadata": {},
          "execution_count": 104
        }
      ]
    },
    {
      "cell_type": "markdown",
      "source": [
        "**Step 2:** Configure hyperparameter tuner\n"
      ],
      "metadata": {
        "id": "gWI8feQV3ARS"
      }
    },
    {
      "cell_type": "code",
      "source": [
        "tuner = keras_tuner.RandomSearch(\n",
        "    hypermodel=build_model,\n",
        "    objective=\"val_accuracy\",\n",
        "    max_trials=3,\n",
        "    executions_per_trial=2,\n",
        "    overwrite=True,\n",
        "    directory=\"my_dir\",\n",
        "    project_name=\"helloworld\",\n",
        ")"
      ],
      "metadata": {
        "id": "uDNK8t8a2-iX"
      },
      "execution_count": 105,
      "outputs": []
    },
    {
      "cell_type": "code",
      "source": [
        "tuner.search_space_summary()"
      ],
      "metadata": {
        "colab": {
          "base_uri": "https://localhost:8080/"
        },
        "id": "en8tTUUu42Zh",
        "outputId": "88463804-7d17-4846-8afc-ea85ca8d37af"
      },
      "execution_count": 106,
      "outputs": [
        {
          "output_type": "stream",
          "name": "stdout",
          "text": [
            "Search space summary\n",
            "Default search space size: 3\n",
            "units (Int)\n",
            "{'default': None, 'conditions': [], 'min_value': 32, 'max_value': 512, 'step': 1, 'sampling': 'linear'}\n",
            "activation (Choice)\n",
            "{'default': 'relu', 'conditions': [], 'values': ['relu', 'tanh'], 'ordered': False}\n",
            "lr (Float)\n",
            "{'default': 0.0001, 'conditions': [], 'min_value': 0.0001, 'max_value': 0.01, 'step': None, 'sampling': 'log'}\n"
          ]
        }
      ]
    },
    {
      "cell_type": "markdown",
      "source": [
        "Step 2:Prepare dataset"
      ],
      "metadata": {
        "id": "SD7QZKyr2nB_"
      }
    },
    {
      "cell_type": "code",
      "source": [
        "\n",
        "(x, y), (x_test, y_test) = keras.datasets.mnist.load_data()\n",
        "\n",
        "x_train = x[:-10000]\n",
        "x_val = x[-10000:]\n",
        "y_train = y[:-10000]\n",
        "y_val = y[-10000:]\n",
        "\n",
        "x_train = np.expand_dims(x_train, -1).astype(\"float32\") / 255.0\n",
        "x_val = np.expand_dims(x_val, -1).astype(\"float32\") / 255.0\n",
        "x_test = np.expand_dims(x_test, -1).astype(\"float32\") / 255.0\n",
        "\n",
        "num_classes = 10\n",
        "y_train = keras.utils.to_categorical(y_train, num_classes)\n",
        "y_val = keras.utils.to_categorical(y_val, num_classes)\n",
        "y_test = keras.utils.to_categorical(y_test, num_classes)"
      ],
      "metadata": {
        "id": "qYRcIEqjiiv9"
      },
      "execution_count": 111,
      "outputs": []
    },
    {
      "cell_type": "markdown",
      "source": [
        "Step 4:Run hyperparameter search"
      ],
      "metadata": {
        "id": "WqhWocm8BpLe"
      }
    },
    {
      "cell_type": "code",
      "source": [
        "\n",
        "tuner.search(x_train, y_train, epochs=2, validation_data=(x_val, y_val))\n"
      ],
      "metadata": {
        "id": "QYzVKfLK6khl"
      },
      "execution_count": 125,
      "outputs": []
    },
    {
      "cell_type": "markdown",
      "source": [
        "*Step* 5: Get best hyperparameters"
      ],
      "metadata": {
        "id": "CYs7DqZ_Bype"
      }
    },
    {
      "cell_type": "code",
      "source": [
        "best_hps = tuner.oracle.get_best_trials(num_trials=1)[0].hyperparameters\n",
        "best_units = best_hps.get(\"units\")\n",
        "print(\"Best number of units:\", best_units)\n",
        "best_hyperparameters = tuner.get_best_hyperparameters(num_trials=1)[0].get_config()\n",
        "print(\"Best Hyperparameters:\")\n",
        "print(best_hyperparameters)\n"
      ],
      "metadata": {
        "colab": {
          "base_uri": "https://localhost:8080/"
        },
        "id": "yyxwEUfOBL5R",
        "outputId": "cd1e134a-e4e8-4162-c024-9255314eabfe"
      },
      "execution_count": 126,
      "outputs": [
        {
          "output_type": "stream",
          "name": "stdout",
          "text": [
            "Best number of units: 445\n",
            "Best Hyperparameters:\n",
            "{'space': [{'class_name': 'Int', 'config': {'name': 'units', 'default': None, 'conditions': [], 'min_value': 32, 'max_value': 512, 'step': 1, 'sampling': 'linear'}}, {'class_name': 'Choice', 'config': {'name': 'activation', 'default': 'relu', 'conditions': [], 'values': ['relu', 'tanh'], 'ordered': False}}, {'class_name': 'Float', 'config': {'name': 'lr', 'default': 0.0001, 'conditions': [], 'min_value': 0.0001, 'max_value': 0.01, 'step': None, 'sampling': 'log'}}], 'values': {'units': 445, 'activation': 'tanh', 'lr': 0.0014159013664792421}}\n"
          ]
        }
      ]
    },
    {
      "cell_type": "markdown",
      "source": [
        "Step 6: Build and train model with best hyperparameter\n"
      ],
      "metadata": {
        "id": "FtCUhlXIHvK7"
      }
    },
    {
      "cell_type": "code",
      "source": [
        "# Get the top 2 hyperparameters.\n",
        "best_hps = tuner.get_best_hyperparameters(5)\n",
        "# Build the model with the best hp.\n",
        "model = build_model(best_hps[0])\n",
        "# Fit with the entire dataset.\n",
        "x_all = np.concatenate((x_train, x_val))\n",
        "y_all = np.concatenate((y_train, y_val))\n",
        "model.fit(x=x_all, y=y_all, epochs=1)"
      ],
      "metadata": {
        "colab": {
          "base_uri": "https://localhost:8080/"
        },
        "id": "Ken24p-m8B1c",
        "outputId": "9a697ffd-0d81-4584-f56d-0a77e4d0d29e"
      },
      "execution_count": 130,
      "outputs": [
        {
          "output_type": "stream",
          "name": "stdout",
          "text": [
            "1875/1875 [==============================] - 16s 8ms/step - loss: 0.2537 - accuracy: 0.9232\n"
          ]
        },
        {
          "output_type": "execute_result",
          "data": {
            "text/plain": [
              "<keras.src.callbacks.History at 0x7e53cd049cf0>"
            ]
          },
          "metadata": {},
          "execution_count": 130
        }
      ]
    },
    {
      "cell_type": "code",
      "source": [],
      "metadata": {
        "id": "wJ8qCWFFCyxZ"
      },
      "execution_count": null,
      "outputs": []
    }
  ],
  "metadata": {
    "colab": {
      "provenance": []
    },
    "kernelspec": {
      "display_name": "Python 3",
      "name": "python3"
    },
    "language_info": {
      "name": "python"
    }
  },
  "nbformat": 4,
  "nbformat_minor": 0
}