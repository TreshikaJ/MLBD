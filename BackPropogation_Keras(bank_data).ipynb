{
  "nbformat": 4,
  "nbformat_minor": 0,
  "metadata": {
    "colab": {
      "provenance": []
    },
    "kernelspec": {
      "name": "python3",
      "display_name": "Python 3"
    },
    "language_info": {
      "name": "python"
    }
  },
  "cells": [
    {
      "cell_type": "code",
      "source": [
        "#Import Libraries\n",
        "import pandas as pd\n",
        "from sklearn.preprocessing import OneHotEncoder\n",
        "\n",
        "\n",
        "#Import dataset\n",
        "dataset=pd.read_csv(\"/content/Bank_data.csv\")\n",
        "x=dataset.iloc[:,3:13]\n",
        "y=dataset.iloc[:,13]\n",
        "\n",
        "#Data preprocessing\n",
        "#Apply one hot encoding to categorical columns and drop one column to avoid dummy variable trap\n",
        "x=pd.get_dummies(x,columns=['Geography','Gender'],drop_first=True)\n",
        "\n",
        "\n",
        "#Perform train test split\n",
        "from sklearn.model_selection import train_test_split\n",
        "x_train,x_test,y_train,y_test=train_test_split(x,y,test_size=0.2,random_state=1)\n",
        "\n",
        "\n",
        "#Standardized data\n",
        "from sklearn.preprocessing import StandardScaler\n",
        "scaler=StandardScaler()\n",
        "x_train=scaler.fit_transform(x_train)\n",
        "x_test=scaler.transform(x_test)\n"
      ],
      "metadata": {
        "id": "2JV10fC5aPO1"
      },
      "execution_count": 139,
      "outputs": []
    },
    {
      "cell_type": "code",
      "source": [
        "dataset.head()"
      ],
      "metadata": {
        "colab": {
          "base_uri": "https://localhost:8080/",
          "height": 226
        },
        "id": "d1r2_IpAbKnD",
        "outputId": "a813a52d-77b4-4118-88d1-88553fe91b06"
      },
      "execution_count": 140,
      "outputs": [
        {
          "output_type": "execute_result",
          "data": {
            "text/plain": [
              "   RowNumber  CustomerId   Surname  CreditScore Geography  Gender  Age  \\\n",
              "0          1    15634602  Hargrave          619    France  Female   42   \n",
              "1          2    15647311      Hill          608     Spain  Female   41   \n",
              "2          3    15619304      Onio          502    France  Female   42   \n",
              "3          4    15701354      Boni          699    France  Female   39   \n",
              "4          5    15737888  Mitchell          850     Spain  Female   43   \n",
              "\n",
              "   Tenure    Balance  NumOfProducts  HasCrCard  IsActiveMember  \\\n",
              "0       2       0.00              1          1               1   \n",
              "1       1   83807.86              1          0               1   \n",
              "2       8  159660.80              3          1               0   \n",
              "3       1       0.00              2          0               0   \n",
              "4       2  125510.82              1          1               1   \n",
              "\n",
              "   EstimatedSalary  Exited  \n",
              "0        101348.88       1  \n",
              "1        112542.58       0  \n",
              "2        113931.57       1  \n",
              "3         93826.63       0  \n",
              "4         79084.10       0  "
            ],
            "text/html": [
              "\n",
              "  <div id=\"df-d358b134-b3cc-4aff-ac58-23bf43a1bcb1\" class=\"colab-df-container\">\n",
              "    <div>\n",
              "<style scoped>\n",
              "    .dataframe tbody tr th:only-of-type {\n",
              "        vertical-align: middle;\n",
              "    }\n",
              "\n",
              "    .dataframe tbody tr th {\n",
              "        vertical-align: top;\n",
              "    }\n",
              "\n",
              "    .dataframe thead th {\n",
              "        text-align: right;\n",
              "    }\n",
              "</style>\n",
              "<table border=\"1\" class=\"dataframe\">\n",
              "  <thead>\n",
              "    <tr style=\"text-align: right;\">\n",
              "      <th></th>\n",
              "      <th>RowNumber</th>\n",
              "      <th>CustomerId</th>\n",
              "      <th>Surname</th>\n",
              "      <th>CreditScore</th>\n",
              "      <th>Geography</th>\n",
              "      <th>Gender</th>\n",
              "      <th>Age</th>\n",
              "      <th>Tenure</th>\n",
              "      <th>Balance</th>\n",
              "      <th>NumOfProducts</th>\n",
              "      <th>HasCrCard</th>\n",
              "      <th>IsActiveMember</th>\n",
              "      <th>EstimatedSalary</th>\n",
              "      <th>Exited</th>\n",
              "    </tr>\n",
              "  </thead>\n",
              "  <tbody>\n",
              "    <tr>\n",
              "      <th>0</th>\n",
              "      <td>1</td>\n",
              "      <td>15634602</td>\n",
              "      <td>Hargrave</td>\n",
              "      <td>619</td>\n",
              "      <td>France</td>\n",
              "      <td>Female</td>\n",
              "      <td>42</td>\n",
              "      <td>2</td>\n",
              "      <td>0.00</td>\n",
              "      <td>1</td>\n",
              "      <td>1</td>\n",
              "      <td>1</td>\n",
              "      <td>101348.88</td>\n",
              "      <td>1</td>\n",
              "    </tr>\n",
              "    <tr>\n",
              "      <th>1</th>\n",
              "      <td>2</td>\n",
              "      <td>15647311</td>\n",
              "      <td>Hill</td>\n",
              "      <td>608</td>\n",
              "      <td>Spain</td>\n",
              "      <td>Female</td>\n",
              "      <td>41</td>\n",
              "      <td>1</td>\n",
              "      <td>83807.86</td>\n",
              "      <td>1</td>\n",
              "      <td>0</td>\n",
              "      <td>1</td>\n",
              "      <td>112542.58</td>\n",
              "      <td>0</td>\n",
              "    </tr>\n",
              "    <tr>\n",
              "      <th>2</th>\n",
              "      <td>3</td>\n",
              "      <td>15619304</td>\n",
              "      <td>Onio</td>\n",
              "      <td>502</td>\n",
              "      <td>France</td>\n",
              "      <td>Female</td>\n",
              "      <td>42</td>\n",
              "      <td>8</td>\n",
              "      <td>159660.80</td>\n",
              "      <td>3</td>\n",
              "      <td>1</td>\n",
              "      <td>0</td>\n",
              "      <td>113931.57</td>\n",
              "      <td>1</td>\n",
              "    </tr>\n",
              "    <tr>\n",
              "      <th>3</th>\n",
              "      <td>4</td>\n",
              "      <td>15701354</td>\n",
              "      <td>Boni</td>\n",
              "      <td>699</td>\n",
              "      <td>France</td>\n",
              "      <td>Female</td>\n",
              "      <td>39</td>\n",
              "      <td>1</td>\n",
              "      <td>0.00</td>\n",
              "      <td>2</td>\n",
              "      <td>0</td>\n",
              "      <td>0</td>\n",
              "      <td>93826.63</td>\n",
              "      <td>0</td>\n",
              "    </tr>\n",
              "    <tr>\n",
              "      <th>4</th>\n",
              "      <td>5</td>\n",
              "      <td>15737888</td>\n",
              "      <td>Mitchell</td>\n",
              "      <td>850</td>\n",
              "      <td>Spain</td>\n",
              "      <td>Female</td>\n",
              "      <td>43</td>\n",
              "      <td>2</td>\n",
              "      <td>125510.82</td>\n",
              "      <td>1</td>\n",
              "      <td>1</td>\n",
              "      <td>1</td>\n",
              "      <td>79084.10</td>\n",
              "      <td>0</td>\n",
              "    </tr>\n",
              "  </tbody>\n",
              "</table>\n",
              "</div>\n",
              "    <div class=\"colab-df-buttons\">\n",
              "\n",
              "  <div class=\"colab-df-container\">\n",
              "    <button class=\"colab-df-convert\" onclick=\"convertToInteractive('df-d358b134-b3cc-4aff-ac58-23bf43a1bcb1')\"\n",
              "            title=\"Convert this dataframe to an interactive table.\"\n",
              "            style=\"display:none;\">\n",
              "\n",
              "  <svg xmlns=\"http://www.w3.org/2000/svg\" height=\"24px\" viewBox=\"0 -960 960 960\">\n",
              "    <path d=\"M120-120v-720h720v720H120Zm60-500h600v-160H180v160Zm220 220h160v-160H400v160Zm0 220h160v-160H400v160ZM180-400h160v-160H180v160Zm440 0h160v-160H620v160ZM180-180h160v-160H180v160Zm440 0h160v-160H620v160Z\"/>\n",
              "  </svg>\n",
              "    </button>\n",
              "\n",
              "  <style>\n",
              "    .colab-df-container {\n",
              "      display:flex;\n",
              "      gap: 12px;\n",
              "    }\n",
              "\n",
              "    .colab-df-convert {\n",
              "      background-color: #E8F0FE;\n",
              "      border: none;\n",
              "      border-radius: 50%;\n",
              "      cursor: pointer;\n",
              "      display: none;\n",
              "      fill: #1967D2;\n",
              "      height: 32px;\n",
              "      padding: 0 0 0 0;\n",
              "      width: 32px;\n",
              "    }\n",
              "\n",
              "    .colab-df-convert:hover {\n",
              "      background-color: #E2EBFA;\n",
              "      box-shadow: 0px 1px 2px rgba(60, 64, 67, 0.3), 0px 1px 3px 1px rgba(60, 64, 67, 0.15);\n",
              "      fill: #174EA6;\n",
              "    }\n",
              "\n",
              "    .colab-df-buttons div {\n",
              "      margin-bottom: 4px;\n",
              "    }\n",
              "\n",
              "    [theme=dark] .colab-df-convert {\n",
              "      background-color: #3B4455;\n",
              "      fill: #D2E3FC;\n",
              "    }\n",
              "\n",
              "    [theme=dark] .colab-df-convert:hover {\n",
              "      background-color: #434B5C;\n",
              "      box-shadow: 0px 1px 3px 1px rgba(0, 0, 0, 0.15);\n",
              "      filter: drop-shadow(0px 1px 2px rgba(0, 0, 0, 0.3));\n",
              "      fill: #FFFFFF;\n",
              "    }\n",
              "  </style>\n",
              "\n",
              "    <script>\n",
              "      const buttonEl =\n",
              "        document.querySelector('#df-d358b134-b3cc-4aff-ac58-23bf43a1bcb1 button.colab-df-convert');\n",
              "      buttonEl.style.display =\n",
              "        google.colab.kernel.accessAllowed ? 'block' : 'none';\n",
              "\n",
              "      async function convertToInteractive(key) {\n",
              "        const element = document.querySelector('#df-d358b134-b3cc-4aff-ac58-23bf43a1bcb1');\n",
              "        const dataTable =\n",
              "          await google.colab.kernel.invokeFunction('convertToInteractive',\n",
              "                                                    [key], {});\n",
              "        if (!dataTable) return;\n",
              "\n",
              "        const docLinkHtml = 'Like what you see? Visit the ' +\n",
              "          '<a target=\"_blank\" href=https://colab.research.google.com/notebooks/data_table.ipynb>data table notebook</a>'\n",
              "          + ' to learn more about interactive tables.';\n",
              "        element.innerHTML = '';\n",
              "        dataTable['output_type'] = 'display_data';\n",
              "        await google.colab.output.renderOutput(dataTable, element);\n",
              "        const docLink = document.createElement('div');\n",
              "        docLink.innerHTML = docLinkHtml;\n",
              "        element.appendChild(docLink);\n",
              "      }\n",
              "    </script>\n",
              "  </div>\n",
              "\n",
              "\n",
              "<div id=\"df-0513a845-cf10-469d-a0f3-ce6b9bea2dd8\">\n",
              "  <button class=\"colab-df-quickchart\" onclick=\"quickchart('df-0513a845-cf10-469d-a0f3-ce6b9bea2dd8')\"\n",
              "            title=\"Suggest charts\"\n",
              "            style=\"display:none;\">\n",
              "\n",
              "<svg xmlns=\"http://www.w3.org/2000/svg\" height=\"24px\"viewBox=\"0 0 24 24\"\n",
              "     width=\"24px\">\n",
              "    <g>\n",
              "        <path d=\"M19 3H5c-1.1 0-2 .9-2 2v14c0 1.1.9 2 2 2h14c1.1 0 2-.9 2-2V5c0-1.1-.9-2-2-2zM9 17H7v-7h2v7zm4 0h-2V7h2v10zm4 0h-2v-4h2v4z\"/>\n",
              "    </g>\n",
              "</svg>\n",
              "  </button>\n",
              "\n",
              "<style>\n",
              "  .colab-df-quickchart {\n",
              "      --bg-color: #E8F0FE;\n",
              "      --fill-color: #1967D2;\n",
              "      --hover-bg-color: #E2EBFA;\n",
              "      --hover-fill-color: #174EA6;\n",
              "      --disabled-fill-color: #AAA;\n",
              "      --disabled-bg-color: #DDD;\n",
              "  }\n",
              "\n",
              "  [theme=dark] .colab-df-quickchart {\n",
              "      --bg-color: #3B4455;\n",
              "      --fill-color: #D2E3FC;\n",
              "      --hover-bg-color: #434B5C;\n",
              "      --hover-fill-color: #FFFFFF;\n",
              "      --disabled-bg-color: #3B4455;\n",
              "      --disabled-fill-color: #666;\n",
              "  }\n",
              "\n",
              "  .colab-df-quickchart {\n",
              "    background-color: var(--bg-color);\n",
              "    border: none;\n",
              "    border-radius: 50%;\n",
              "    cursor: pointer;\n",
              "    display: none;\n",
              "    fill: var(--fill-color);\n",
              "    height: 32px;\n",
              "    padding: 0;\n",
              "    width: 32px;\n",
              "  }\n",
              "\n",
              "  .colab-df-quickchart:hover {\n",
              "    background-color: var(--hover-bg-color);\n",
              "    box-shadow: 0 1px 2px rgba(60, 64, 67, 0.3), 0 1px 3px 1px rgba(60, 64, 67, 0.15);\n",
              "    fill: var(--button-hover-fill-color);\n",
              "  }\n",
              "\n",
              "  .colab-df-quickchart-complete:disabled,\n",
              "  .colab-df-quickchart-complete:disabled:hover {\n",
              "    background-color: var(--disabled-bg-color);\n",
              "    fill: var(--disabled-fill-color);\n",
              "    box-shadow: none;\n",
              "  }\n",
              "\n",
              "  .colab-df-spinner {\n",
              "    border: 2px solid var(--fill-color);\n",
              "    border-color: transparent;\n",
              "    border-bottom-color: var(--fill-color);\n",
              "    animation:\n",
              "      spin 1s steps(1) infinite;\n",
              "  }\n",
              "\n",
              "  @keyframes spin {\n",
              "    0% {\n",
              "      border-color: transparent;\n",
              "      border-bottom-color: var(--fill-color);\n",
              "      border-left-color: var(--fill-color);\n",
              "    }\n",
              "    20% {\n",
              "      border-color: transparent;\n",
              "      border-left-color: var(--fill-color);\n",
              "      border-top-color: var(--fill-color);\n",
              "    }\n",
              "    30% {\n",
              "      border-color: transparent;\n",
              "      border-left-color: var(--fill-color);\n",
              "      border-top-color: var(--fill-color);\n",
              "      border-right-color: var(--fill-color);\n",
              "    }\n",
              "    40% {\n",
              "      border-color: transparent;\n",
              "      border-right-color: var(--fill-color);\n",
              "      border-top-color: var(--fill-color);\n",
              "    }\n",
              "    60% {\n",
              "      border-color: transparent;\n",
              "      border-right-color: var(--fill-color);\n",
              "    }\n",
              "    80% {\n",
              "      border-color: transparent;\n",
              "      border-right-color: var(--fill-color);\n",
              "      border-bottom-color: var(--fill-color);\n",
              "    }\n",
              "    90% {\n",
              "      border-color: transparent;\n",
              "      border-bottom-color: var(--fill-color);\n",
              "    }\n",
              "  }\n",
              "</style>\n",
              "\n",
              "  <script>\n",
              "    async function quickchart(key) {\n",
              "      const quickchartButtonEl =\n",
              "        document.querySelector('#' + key + ' button');\n",
              "      quickchartButtonEl.disabled = true;  // To prevent multiple clicks.\n",
              "      quickchartButtonEl.classList.add('colab-df-spinner');\n",
              "      try {\n",
              "        const charts = await google.colab.kernel.invokeFunction(\n",
              "            'suggestCharts', [key], {});\n",
              "      } catch (error) {\n",
              "        console.error('Error during call to suggestCharts:', error);\n",
              "      }\n",
              "      quickchartButtonEl.classList.remove('colab-df-spinner');\n",
              "      quickchartButtonEl.classList.add('colab-df-quickchart-complete');\n",
              "    }\n",
              "    (() => {\n",
              "      let quickchartButtonEl =\n",
              "        document.querySelector('#df-0513a845-cf10-469d-a0f3-ce6b9bea2dd8 button');\n",
              "      quickchartButtonEl.style.display =\n",
              "        google.colab.kernel.accessAllowed ? 'block' : 'none';\n",
              "    })();\n",
              "  </script>\n",
              "</div>\n",
              "\n",
              "    </div>\n",
              "  </div>\n"
            ]
          },
          "metadata": {},
          "execution_count": 140
        }
      ]
    },
    {
      "cell_type": "code",
      "source": [
        "x_train"
      ],
      "metadata": {
        "colab": {
          "base_uri": "https://localhost:8080/"
        },
        "id": "v17JNeP6Qqfr",
        "outputId": "2a3b4869-96ff-4c80-87fa-3f04a9b9ecd3"
      },
      "execution_count": 141,
      "outputs": [
        {
          "output_type": "execute_result",
          "data": {
            "text/plain": [
              "array([[-0.23082038, -0.94449979, -0.70174202, ...,  1.71490137,\n",
              "        -0.57273139,  0.91509065],\n",
              "       [-0.25150912, -0.94449979, -0.35520275, ..., -0.58312392,\n",
              "        -0.57273139, -1.09278791],\n",
              "       [-0.3963303 ,  0.77498705,  0.33787579, ...,  1.71490137,\n",
              "        -0.57273139, -1.09278791],\n",
              "       ...,\n",
              "       [ 0.22433188,  0.58393295,  1.3774936 , ..., -0.58312392,\n",
              "        -0.57273139, -1.09278791],\n",
              "       [ 0.13123255,  0.01077067,  1.03095433, ..., -0.58312392,\n",
              "        -0.57273139, -1.09278791],\n",
              "       [ 1.1656695 ,  0.29735181,  0.33787579, ...,  1.71490137,\n",
              "        -0.57273139,  0.91509065]])"
            ]
          },
          "metadata": {},
          "execution_count": 141
        }
      ]
    },
    {
      "cell_type": "code",
      "source": [
        "from tensorflow.keras.models import Sequential\n",
        "from tensorflow.keras.layers import Dense\n",
        "\n",
        "# Assuming x_train and y_train are your training features and labels, respectively\n",
        "\n",
        "# Initializing ANN\n",
        "classifier = Sequential()\n",
        "\n",
        "# Adding input layer and first hidden layer\n",
        "# Ensure input_dim matches the number of features in x_train\n",
        "classifier.add(Dense(units=6, kernel_initializer='uniform', activation='relu', input_dim=x_train.shape[1]))\n",
        "\n",
        "\n",
        "# Output layer for binary classification with sigmoid activation\n",
        "classifier.add(Dense(units=1, kernel_initializer='uniform', activation='sigmoid'))\n",
        "\n",
        "# Compiling the model\n",
        "classifier.compile(optimizer='Adam', loss='binary_crossentropy', metrics=['accuracy'])\n",
        "\n",
        "# Fitting the model\n",
        "history=classifier.fit(x_train, y_train, batch_size=10, epochs=10,validation_split=0.2)\n",
        "\n",
        "# Making predictions on the scaled x_test finding class probabilities\n",
        "predictions = classifier.predict(x_test)\n"
      ],
      "metadata": {
        "colab": {
          "base_uri": "https://localhost:8080/"
        },
        "id": "oJNDREg_oQyn",
        "outputId": "dd03649b-9393-40a1-f513-b261b5942918"
      },
      "execution_count": 142,
      "outputs": [
        {
          "output_type": "stream",
          "name": "stdout",
          "text": [
            "Epoch 1/10\n",
            "640/640 [==============================] - 3s 4ms/step - loss: 0.5283 - accuracy: 0.7936 - val_loss: 0.4360 - val_accuracy: 0.7975\n",
            "Epoch 2/10\n",
            "640/640 [==============================] - 2s 2ms/step - loss: 0.4225 - accuracy: 0.8178 - val_loss: 0.4174 - val_accuracy: 0.8213\n",
            "Epoch 3/10\n",
            "640/640 [==============================] - 2s 2ms/step - loss: 0.4101 - accuracy: 0.8275 - val_loss: 0.4067 - val_accuracy: 0.8206\n",
            "Epoch 4/10\n",
            "640/640 [==============================] - 1s 2ms/step - loss: 0.4025 - accuracy: 0.8269 - val_loss: 0.3978 - val_accuracy: 0.8244\n",
            "Epoch 5/10\n",
            "640/640 [==============================] - 2s 3ms/step - loss: 0.3965 - accuracy: 0.8295 - val_loss: 0.3931 - val_accuracy: 0.8250\n",
            "Epoch 6/10\n",
            "640/640 [==============================] - 2s 2ms/step - loss: 0.3918 - accuracy: 0.8295 - val_loss: 0.3862 - val_accuracy: 0.8256\n",
            "Epoch 7/10\n",
            "640/640 [==============================] - 3s 5ms/step - loss: 0.3875 - accuracy: 0.8309 - val_loss: 0.3818 - val_accuracy: 0.8281\n",
            "Epoch 8/10\n",
            "640/640 [==============================] - 2s 3ms/step - loss: 0.3845 - accuracy: 0.8308 - val_loss: 0.3792 - val_accuracy: 0.8275\n",
            "Epoch 9/10\n",
            "640/640 [==============================] - 2s 3ms/step - loss: 0.3822 - accuracy: 0.8305 - val_loss: 0.3770 - val_accuracy: 0.8269\n",
            "Epoch 10/10\n",
            "640/640 [==============================] - 2s 3ms/step - loss: 0.3797 - accuracy: 0.8298 - val_loss: 0.3755 - val_accuracy: 0.8263\n",
            "63/63 [==============================] - 0s 1ms/step\n"
          ]
        }
      ]
    },
    {
      "cell_type": "code",
      "source": [
        " history.history"
      ],
      "metadata": {
        "colab": {
          "base_uri": "https://localhost:8080/"
        },
        "id": "C5-waEUtY1j5",
        "outputId": "9d199ba7-9679-4090-eca8-c1021c3cff6c"
      },
      "execution_count": 143,
      "outputs": [
        {
          "output_type": "execute_result",
          "data": {
            "text/plain": [
              "{'loss': [0.5283356308937073,\n",
              "  0.42250263690948486,\n",
              "  0.4101403057575226,\n",
              "  0.4025369882583618,\n",
              "  0.3964739143848419,\n",
              "  0.3917967975139618,\n",
              "  0.3875361382961273,\n",
              "  0.3844606876373291,\n",
              "  0.3822403848171234,\n",
              "  0.37966227531433105],\n",
              " 'accuracy': [0.7935937643051147,\n",
              "  0.8178125023841858,\n",
              "  0.8274999856948853,\n",
              "  0.8268749713897705,\n",
              "  0.8295312523841858,\n",
              "  0.8295312523841858,\n",
              "  0.8309375047683716,\n",
              "  0.8307812213897705,\n",
              "  0.8304687738418579,\n",
              "  0.8298437595367432],\n",
              " 'val_loss': [0.4360042214393616,\n",
              "  0.4174322783946991,\n",
              "  0.40669554471969604,\n",
              "  0.39775294065475464,\n",
              "  0.3930712044239044,\n",
              "  0.3861798048019409,\n",
              "  0.38177818059921265,\n",
              "  0.3792022466659546,\n",
              "  0.3769725561141968,\n",
              "  0.37546536326408386],\n",
              " 'val_accuracy': [0.7975000143051147,\n",
              "  0.8212500214576721,\n",
              "  0.8206250071525574,\n",
              "  0.8243749737739563,\n",
              "  0.824999988079071,\n",
              "  0.8256250023841858,\n",
              "  0.828125,\n",
              "  0.8274999856948853,\n",
              "  0.8268749713897705,\n",
              "  0.8262500166893005]}"
            ]
          },
          "metadata": {},
          "execution_count": 143
        }
      ]
    },
    {
      "cell_type": "code",
      "source": [
        "#Converting class probabilities into class values\n",
        "import numpy as np\n",
        "y_pred=np.where(predictions>0.5,1,0)\n",
        "y_pred=y_pred.ravel()"
      ],
      "metadata": {
        "id": "1QVp94VNZKD-"
      },
      "execution_count": 146,
      "outputs": []
    },
    {
      "cell_type": "code",
      "source": [
        "#Plot the loss and validation_loss for different epochs\n",
        "import matplotlib.pyplot as plt\n",
        "plt.plot(history.history['loss'],color='blue')\n",
        "plt.plot(history.history['val_loss'],color='red')"
      ],
      "metadata": {
        "colab": {
          "base_uri": "https://localhost:8080/",
          "height": 447
        },
        "id": "H37_xEuwafjJ",
        "outputId": "96b3d3de-2a8d-4982-afcd-6f2088c66f51"
      },
      "execution_count": 147,
      "outputs": [
        {
          "output_type": "execute_result",
          "data": {
            "text/plain": [
              "[<matplotlib.lines.Line2D at 0x78c89029ba60>]"
            ]
          },
          "metadata": {},
          "execution_count": 147
        },
        {
          "output_type": "display_data",
          "data": {
            "text/plain": [
              "<Figure size 640x480 with 1 Axes>"
            ],
            "image/png": "[encoded data removed]"
          },
          "metadata": {}
        }
      ]
    },
    {
      "cell_type": "code",
      "source": [
        "\n",
        "#Plot accuracy and validation accuracy for different epochs\n",
        "plt.plot(history.history['accuracy'],color='blue')\n",
        "plt.plot(history.history['val_accuracy'],color='red')"
      ],
      "metadata": {
        "colab": {
          "base_uri": "https://localhost:8080/",
          "height": 447
        },
        "id": "NSvbI4h9bJXg",
        "outputId": "bec5a5ad-f3bb-4574-8a92-627a80c9c8b5"
      },
      "execution_count": 148,
      "outputs": [
        {
          "output_type": "execute_result",
          "data": {
            "text/plain": [
              "[<matplotlib.lines.Line2D at 0x78c88f904d90>]"
            ]
          },
          "metadata": {},
          "execution_count": 148
        },
        {
          "output_type": "display_data",
          "data": {
            "text/plain": [
              "<Figure size 640x480 with 1 Axes>"
            ],
            "image/png": "[encoded data removed]"
          },
          "metadata": {}
        }
      ]
    },
    {
      "cell_type": "code",
      "source": [
        "\n",
        "from sklearn.metrics import accuracy_score\n",
        "score=accuracy_score(y_test,y_pred)\n",
        "print(f\"Accuracy score:{score*100}\")"
      ],
      "metadata": {
        "colab": {
          "base_uri": "https://localhost:8080/"
        },
        "id": "R4MRBtCopQM9",
        "outputId": "1c765545-254d-4a80-bc99-aa031617555c"
      },
      "execution_count": 149,
      "outputs": [
        {
          "output_type": "stream",
          "name": "stdout",
          "text": [
            "Accuracy score:83.3\n"
          ]
        }
      ]
    },
    {
      "cell_type": "code",
      "source": [
        "#Predicting test set results\n",
        "y_pred=classifier.predict(x_test)\n",
        "\n",
        "#Convert probability into binary class values by comparing with threshold\n",
        "import numpy as np\n",
        "y_pred=np.where(y_pred>0.5,1,0).ravel()\n"
      ],
      "metadata": {
        "id": "p6yMo1gWdI4e",
        "colab": {
          "base_uri": "https://localhost:8080/"
        },
        "outputId": "ca0cf994-426d-4245-bd0d-07fd6543a444"
      },
      "execution_count": 150,
      "outputs": [
        {
          "output_type": "stream",
          "name": "stdout",
          "text": [
            "63/63 [==============================] - 0s 2ms/step\n"
          ]
        }
      ]
    },
    {
      "cell_type": "code",
      "source": [
        "\n",
        "#Making confusion matrix\n",
        "\n",
        "from sklearn.metrics import confusion_matrix\n",
        "cm=confusion_matrix(y_test,y_pred)\n",
        "cm"
      ],
      "metadata": {
        "colab": {
          "base_uri": "https://localhost:8080/"
        },
        "id": "amHQTjDWfoYs",
        "outputId": "9009529c-4413-4aed-cc78-663184223bf1"
      },
      "execution_count": 151,
      "outputs": [
        {
          "output_type": "execute_result",
          "data": {
            "text/plain": [
              "array([[1548,   37],\n",
              "       [ 297,  118]])"
            ]
          },
          "metadata": {},
          "execution_count": 151
        }
      ]
    },
    {
      "cell_type": "markdown",
      "source": [
        "**Train on different batch_sizes**\n",
        "\n",
        "\n",
        "\n"
      ],
      "metadata": {
        "id": "hUPBqsKcrt6G"
      }
    },
    {
      "cell_type": "code",
      "source": [
        "classifier.fit(x_train, y_train, batch_size=2, epochs=10,validation_split=0.2)\n"
      ],
      "metadata": {
        "colab": {
          "base_uri": "https://localhost:8080/"
        },
        "id": "AulXP36Or2eJ",
        "outputId": "a1ba0d43-8f16-4e13-c5f7-fb4ef4ea6980"
      },
      "execution_count": 158,
      "outputs": [
        {
          "output_type": "stream",
          "name": "stdout",
          "text": [
            "Epoch 1/10\n",
            "3200/3200 [==============================] - 17s 5ms/step - loss: 0.3691 - accuracy: 0.8483 - val_loss: 0.3639 - val_accuracy: 0.8438\n",
            "Epoch 2/10\n",
            "3200/3200 [==============================] - 20s 6ms/step - loss: 0.3639 - accuracy: 0.8509 - val_loss: 0.3626 - val_accuracy: 0.8431\n",
            "Epoch 3/10\n",
            "3200/3200 [==============================] - 12s 4ms/step - loss: 0.3630 - accuracy: 0.8505 - val_loss: 0.3605 - val_accuracy: 0.8500\n",
            "Epoch 4/10\n",
            "3200/3200 [==============================] - 12s 4ms/step - loss: 0.3610 - accuracy: 0.8516 - val_loss: 0.3583 - val_accuracy: 0.8456\n",
            "Epoch 5/10\n",
            "3200/3200 [==============================] - 14s 4ms/step - loss: 0.3600 - accuracy: 0.8533 - val_loss: 0.3599 - val_accuracy: 0.8444\n",
            "Epoch 6/10\n",
            "3200/3200 [==============================] - 17s 5ms/step - loss: 0.3596 - accuracy: 0.8528 - val_loss: 0.3570 - val_accuracy: 0.8487\n",
            "Epoch 7/10\n",
            "3200/3200 [==============================] - 14s 5ms/step - loss: 0.3574 - accuracy: 0.8548 - val_loss: 0.3568 - val_accuracy: 0.8512\n",
            "Epoch 8/10\n",
            "3200/3200 [==============================] - 11s 4ms/step - loss: 0.3561 - accuracy: 0.8561 - val_loss: 0.3620 - val_accuracy: 0.8475\n",
            "Epoch 9/10\n",
            "3200/3200 [==============================] - 20s 6ms/step - loss: 0.3560 - accuracy: 0.8567 - val_loss: 0.3574 - val_accuracy: 0.8481\n",
            "Epoch 10/10\n",
            "3200/3200 [==============================] - 9s 3ms/step - loss: 0.3556 - accuracy: 0.8556 - val_loss: 0.3527 - val_accuracy: 0.8537\n"
          ]
        },
        {
          "output_type": "execute_result",
          "data": {
            "text/plain": [
              "<keras.src.callbacks.History at 0x78c88f975ff0>"
            ]
          },
          "metadata": {},
          "execution_count": 158
        }
      ]
    },
    {
      "cell_type": "code",
      "source": [
        "y_pred=classifier.predict(x_test)\n",
        "y_pred=np.where(y_pred>0.5,1,0)"
      ],
      "metadata": {
        "colab": {
          "base_uri": "https://localhost:8080/"
        },
        "id": "X1pABgfCsmyR",
        "outputId": "8a2d5f39-c2ac-4076-996a-7313150f211e"
      },
      "execution_count": 164,
      "outputs": [
        {
          "output_type": "stream",
          "name": "stdout",
          "text": [
            "63/63 [==============================] - 0s 3ms/step\n"
          ]
        }
      ]
    },
    {
      "cell_type": "code",
      "source": [
        "score=accuracy_score(y_test,y_pred)\n",
        "print(f\"Accuracy score:{score*100}\")"
      ],
      "metadata": {
        "colab": {
          "base_uri": "https://localhost:8080/"
        },
        "id": "NpO5jQp-tvVh",
        "outputId": "37efaa0c-bf60-42b4-9882-418a14fca286"
      },
      "execution_count": 166,
      "outputs": [
        {
          "output_type": "stream",
          "name": "stdout",
          "text": [
            "Accuracy score:85.2\n"
          ]
        }
      ]
    },
    {
      "cell_type": "code",
      "source": [
        "classifier.fit(x_train, y_train, batch_size=8, epochs=10,validation_split=0.2)\n"
      ],
      "metadata": {
        "colab": {
          "base_uri": "https://localhost:8080/"
        },
        "id": "n-6pldJmsWTK",
        "outputId": "034e1cc0-74f4-4383-85b1-c89738f5f375"
      },
      "execution_count": 167,
      "outputs": [
        {
          "output_type": "stream",
          "name": "stdout",
          "text": [
            "Epoch 1/10\n",
            "800/800 [==============================] - 2s 3ms/step - loss: 0.3522 - accuracy: 0.8567 - val_loss: 0.3548 - val_accuracy: 0.8469\n",
            "Epoch 2/10\n",
            "800/800 [==============================] - 2s 3ms/step - loss: 0.3518 - accuracy: 0.8548 - val_loss: 0.3552 - val_accuracy: 0.8487\n",
            "Epoch 3/10\n",
            "800/800 [==============================] - 4s 5ms/step - loss: 0.3513 - accuracy: 0.8567 - val_loss: 0.3586 - val_accuracy: 0.8462\n",
            "Epoch 4/10\n",
            "800/800 [==============================] - 5s 6ms/step - loss: 0.3509 - accuracy: 0.8591 - val_loss: 0.3576 - val_accuracy: 0.8494\n",
            "Epoch 5/10\n",
            "800/800 [==============================] - 7s 9ms/step - loss: 0.3515 - accuracy: 0.8583 - val_loss: 0.3562 - val_accuracy: 0.8469\n",
            "Epoch 6/10\n",
            "800/800 [==============================] - 5s 6ms/step - loss: 0.3513 - accuracy: 0.8575 - val_loss: 0.3545 - val_accuracy: 0.8481\n",
            "Epoch 7/10\n",
            "800/800 [==============================] - 5s 6ms/step - loss: 0.3510 - accuracy: 0.8566 - val_loss: 0.3559 - val_accuracy: 0.8512\n",
            "Epoch 8/10\n",
            "800/800 [==============================] - 6s 7ms/step - loss: 0.3513 - accuracy: 0.8578 - val_loss: 0.3540 - val_accuracy: 0.8487\n",
            "Epoch 9/10\n",
            "800/800 [==============================] - 4s 5ms/step - loss: 0.3505 - accuracy: 0.8569 - val_loss: 0.3555 - val_accuracy: 0.8475\n",
            "Epoch 10/10\n",
            "800/800 [==============================] - 7s 9ms/step - loss: 0.3507 - accuracy: 0.8570 - val_loss: 0.3548 - val_accuracy: 0.8487\n"
          ]
        },
        {
          "output_type": "execute_result",
          "data": {
            "text/plain": [
              "<keras.src.callbacks.History at 0x78c890cbeb60>"
            ]
          },
          "metadata": {},
          "execution_count": 167
        }
      ]
    },
    {
      "cell_type": "code",
      "source": [
        "y_pred=classifier.predict(x_test)\n",
        "y_pred=np.where(y_pred>0.5,1,0)"
      ],
      "metadata": {
        "id": "h2duRIY9uVND"
      },
      "execution_count": null,
      "outputs": []
    },
    {
      "cell_type": "code",
      "source": [
        "score=accuracy_score(y_test,y_pred)\n",
        "print(f\"Accuracy score {score*100}\")"
      ],
      "metadata": {
        "colab": {
          "base_uri": "https://localhost:8080/"
        },
        "id": "Q8i99TgDuWqI",
        "outputId": "4c670188-5508-4fdb-8c1b-219f126ddb0d"
      },
      "execution_count": 168,
      "outputs": [
        {
          "output_type": "stream",
          "name": "stdout",
          "text": [
            "Accuracy score 85.2\n"
          ]
        }
      ]
    },
    {
      "cell_type": "code",
      "source": [
        "classifier.fit(x_train, y_train, batch_size=32, epochs=10,validation_split=0.2)\n"
      ],
      "metadata": {
        "colab": {
          "base_uri": "https://localhost:8080/"
        },
        "id": "BgNaLBKvsas6",
        "outputId": "6e2bb7ba-fc44-475a-b6a1-6827c59febde"
      },
      "execution_count": 169,
      "outputs": [
        {
          "output_type": "stream",
          "name": "stdout",
          "text": [
            "Epoch 1/10\n",
            "200/200 [==============================] - 1s 3ms/step - loss: 0.3481 - accuracy: 0.8603 - val_loss: 0.3539 - val_accuracy: 0.8494\n",
            "Epoch 2/10\n",
            "200/200 [==============================] - 1s 3ms/step - loss: 0.3480 - accuracy: 0.8581 - val_loss: 0.3541 - val_accuracy: 0.8506\n",
            "Epoch 3/10\n",
            "200/200 [==============================] - 1s 3ms/step - loss: 0.3480 - accuracy: 0.8584 - val_loss: 0.3542 - val_accuracy: 0.8500\n",
            "Epoch 4/10\n",
            "200/200 [==============================] - 1s 3ms/step - loss: 0.3480 - accuracy: 0.8575 - val_loss: 0.3535 - val_accuracy: 0.8487\n",
            "Epoch 5/10\n",
            "200/200 [==============================] - 1s 4ms/step - loss: 0.3478 - accuracy: 0.8586 - val_loss: 0.3537 - val_accuracy: 0.8500\n",
            "Epoch 6/10\n",
            "200/200 [==============================] - 1s 5ms/step - loss: 0.3478 - accuracy: 0.8595 - val_loss: 0.3540 - val_accuracy: 0.8481\n",
            "Epoch 7/10\n",
            "200/200 [==============================] - 1s 5ms/step - loss: 0.3479 - accuracy: 0.8569 - val_loss: 0.3536 - val_accuracy: 0.8500\n",
            "Epoch 8/10\n",
            "200/200 [==============================] - 1s 5ms/step - loss: 0.3477 - accuracy: 0.8583 - val_loss: 0.3540 - val_accuracy: 0.8494\n",
            "Epoch 9/10\n",
            "200/200 [==============================] - 1s 5ms/step - loss: 0.3479 - accuracy: 0.8587 - val_loss: 0.3530 - val_accuracy: 0.8500\n",
            "Epoch 10/10\n",
            "200/200 [==============================] - 1s 5ms/step - loss: 0.3480 - accuracy: 0.8569 - val_loss: 0.3533 - val_accuracy: 0.8481\n"
          ]
        },
        {
          "output_type": "execute_result",
          "data": {
            "text/plain": [
              "<keras.src.callbacks.History at 0x78c88f955d50>"
            ]
          },
          "metadata": {},
          "execution_count": 169
        }
      ]
    },
    {
      "cell_type": "code",
      "source": [
        "y_pred=classifier.predict(x_test)\n",
        "y_pred=np.where(y_pred>0.5,1,0)"
      ],
      "metadata": {
        "colab": {
          "base_uri": "https://localhost:8080/"
        },
        "id": "9Oi85vL5uO4w",
        "outputId": "adc1e29b-1d15-4766-eab6-6471013408af"
      },
      "execution_count": 170,
      "outputs": [
        {
          "output_type": "stream",
          "name": "stdout",
          "text": [
            "63/63 [==============================] - 0s 2ms/step\n"
          ]
        }
      ]
    },
    {
      "cell_type": "code",
      "source": [
        "score=accuracy_score(y_test,y_pred)\n",
        "print(f\"Accuracy score {score*100}\")"
      ],
      "metadata": {
        "colab": {
          "base_uri": "https://localhost:8080/"
        },
        "id": "G3vvc2jHu18R",
        "outputId": "9065df8c-1d54-4e8c-b897-0e8c8346bb8f"
      },
      "execution_count": 171,
      "outputs": [
        {
          "output_type": "stream",
          "name": "stdout",
          "text": [
            "Accuracy score 85.39999999999999\n"
          ]
        }
      ]
    },
    {
      "cell_type": "code",
      "source": [
        "classifier.fit(x_train, y_train, batch_size=64, epochs=10,validation_split=0.2)\n"
      ],
      "metadata": {
        "colab": {
          "base_uri": "https://localhost:8080/"
        },
        "id": "7XO67n6wseyE",
        "outputId": "c75dba1e-c729-499e-95d7-63ca041c9e98"
      },
      "execution_count": 172,
      "outputs": [
        {
          "output_type": "stream",
          "name": "stdout",
          "text": [
            "Epoch 1/10\n",
            "100/100 [==============================] - 0s 3ms/step - loss: 0.3470 - accuracy: 0.8570 - val_loss: 0.3533 - val_accuracy: 0.8487\n",
            "Epoch 2/10\n",
            "100/100 [==============================] - 0s 3ms/step - loss: 0.3470 - accuracy: 0.8587 - val_loss: 0.3542 - val_accuracy: 0.8481\n",
            "Epoch 3/10\n",
            "100/100 [==============================] - 0s 3ms/step - loss: 0.3469 - accuracy: 0.8577 - val_loss: 0.3540 - val_accuracy: 0.8481\n",
            "Epoch 4/10\n",
            "100/100 [==============================] - 0s 4ms/step - loss: 0.3470 - accuracy: 0.8581 - val_loss: 0.3541 - val_accuracy: 0.8487\n",
            "Epoch 5/10\n",
            "100/100 [==============================] - 0s 4ms/step - loss: 0.3469 - accuracy: 0.8581 - val_loss: 0.3549 - val_accuracy: 0.8462\n",
            "Epoch 6/10\n",
            "100/100 [==============================] - 0s 5ms/step - loss: 0.3468 - accuracy: 0.8581 - val_loss: 0.3535 - val_accuracy: 0.8487\n",
            "Epoch 7/10\n",
            "100/100 [==============================] - 1s 5ms/step - loss: 0.3470 - accuracy: 0.8589 - val_loss: 0.3537 - val_accuracy: 0.8481\n",
            "Epoch 8/10\n",
            "100/100 [==============================] - 1s 6ms/step - loss: 0.3468 - accuracy: 0.8589 - val_loss: 0.3538 - val_accuracy: 0.8494\n",
            "Epoch 9/10\n",
            "100/100 [==============================] - 0s 3ms/step - loss: 0.3469 - accuracy: 0.8584 - val_loss: 0.3537 - val_accuracy: 0.8500\n",
            "Epoch 10/10\n",
            "100/100 [==============================] - 0s 3ms/step - loss: 0.3465 - accuracy: 0.8578 - val_loss: 0.3530 - val_accuracy: 0.8481\n"
          ]
        },
        {
          "output_type": "execute_result",
          "data": {
            "text/plain": [
              "<keras.src.callbacks.History at 0x78c890cbdc90>"
            ]
          },
          "metadata": {},
          "execution_count": 172
        }
      ]
    },
    {
      "cell_type": "code",
      "source": [
        "y_pred=classifier.predict(x_test)\n",
        "y_pred=np.where(y_pred>0.5,1,0)"
      ],
      "metadata": {
        "colab": {
          "base_uri": "https://localhost:8080/"
        },
        "id": "xI2VQ1BtuQEg",
        "outputId": "a966d9e8-247d-4e36-98d4-69978cf9bea4"
      },
      "execution_count": 173,
      "outputs": [
        {
          "output_type": "stream",
          "name": "stdout",
          "text": [
            "63/63 [==============================] - 0s 2ms/step\n"
          ]
        }
      ]
    },
    {
      "cell_type": "code",
      "source": [
        "score=accuracy_score(y_test,y_pred)\n",
        "print(f\"Accuracy score {score*100}\")"
      ],
      "metadata": {
        "colab": {
          "base_uri": "https://localhost:8080/"
        },
        "id": "CcvBFjFtu-ea",
        "outputId": "1e7c4b3d-01b2-407c-c67e-a7580ce318c0"
      },
      "execution_count": 174,
      "outputs": [
        {
          "output_type": "stream",
          "name": "stdout",
          "text": [
            "Accuracy score 85.39999999999999\n"
          ]
        }
      ]
    },
    {
      "cell_type": "code",
      "source": [
        "classifier.fit(x_train, y_train, batch_size=1024, epochs=10,validation_split=0.2)\n"
      ],
      "metadata": {
        "colab": {
          "base_uri": "https://localhost:8080/"
        },
        "id": "UEdoUrXdsiC4",
        "outputId": "bb1b9c52-8dda-4698-dc12-f855292f204b"
      },
      "execution_count": 175,
      "outputs": [
        {
          "output_type": "stream",
          "name": "stdout",
          "text": [
            "Epoch 1/10\n",
            "7/7 [==============================] - 0s 20ms/step - loss: 0.3458 - accuracy: 0.8583 - val_loss: 0.3531 - val_accuracy: 0.8481\n",
            "Epoch 2/10\n",
            "7/7 [==============================] - 0s 11ms/step - loss: 0.3458 - accuracy: 0.8580 - val_loss: 0.3532 - val_accuracy: 0.8481\n",
            "Epoch 3/10\n",
            "7/7 [==============================] - 0s 11ms/step - loss: 0.3458 - accuracy: 0.8581 - val_loss: 0.3533 - val_accuracy: 0.8481\n",
            "Epoch 4/10\n",
            "7/7 [==============================] - 0s 10ms/step - loss: 0.3458 - accuracy: 0.8583 - val_loss: 0.3533 - val_accuracy: 0.8487\n",
            "Epoch 5/10\n",
            "7/7 [==============================] - 0s 11ms/step - loss: 0.3458 - accuracy: 0.8584 - val_loss: 0.3533 - val_accuracy: 0.8487\n",
            "Epoch 6/10\n",
            "7/7 [==============================] - 0s 8ms/step - loss: 0.3458 - accuracy: 0.8586 - val_loss: 0.3534 - val_accuracy: 0.8487\n",
            "Epoch 7/10\n",
            "7/7 [==============================] - 0s 8ms/step - loss: 0.3458 - accuracy: 0.8581 - val_loss: 0.3534 - val_accuracy: 0.8487\n",
            "Epoch 8/10\n",
            "7/7 [==============================] - 0s 11ms/step - loss: 0.3458 - accuracy: 0.8580 - val_loss: 0.3534 - val_accuracy: 0.8487\n",
            "Epoch 9/10\n",
            "7/7 [==============================] - 0s 8ms/step - loss: 0.3458 - accuracy: 0.8583 - val_loss: 0.3534 - val_accuracy: 0.8487\n",
            "Epoch 10/10\n",
            "7/7 [==============================] - 0s 11ms/step - loss: 0.3458 - accuracy: 0.8583 - val_loss: 0.3534 - val_accuracy: 0.8487\n"
          ]
        },
        {
          "output_type": "execute_result",
          "data": {
            "text/plain": [
              "<keras.src.callbacks.History at 0x78c88f975f30>"
            ]
          },
          "metadata": {},
          "execution_count": 175
        }
      ]
    },
    {
      "cell_type": "code",
      "source": [
        "y_pred=classifier.predict(x_test)\n",
        "y_pred=np.where(y_pred>0.5,1,0)"
      ],
      "metadata": {
        "colab": {
          "base_uri": "https://localhost:8080/"
        },
        "id": "0r7RQx6HuRPe",
        "outputId": "d81efa64-d990-406c-b57d-a38bb772cd0d"
      },
      "execution_count": 176,
      "outputs": [
        {
          "output_type": "stream",
          "name": "stdout",
          "text": [
            "63/63 [==============================] - 0s 2ms/step\n"
          ]
        }
      ]
    },
    {
      "cell_type": "code",
      "source": [
        "score=accuracy_score(y_test,y_pred)\n",
        "print(f\"Accuracy score {score*100}\")"
      ],
      "metadata": {
        "colab": {
          "base_uri": "https://localhost:8080/"
        },
        "id": "YYO8HQndvGFq",
        "outputId": "7688e666-3a51-4c66-917f-89143bbaa79e"
      },
      "execution_count": 177,
      "outputs": [
        {
          "output_type": "stream",
          "name": "stdout",
          "text": [
            "Accuracy score 85.35000000000001\n"
          ]
        }
      ]
    },
    {
      "cell_type": "code",
      "source": [
        "classifier.fit(x_train,y_train,batch_size=524288,epochs=10)"
      ],
      "metadata": {
        "colab": {
          "base_uri": "https://localhost:8080/"
        },
        "id": "dp2SnwR8vLuU",
        "outputId": "a011ec3f-ebaf-42b3-add6-d36c07e6d1bc"
      },
      "execution_count": 178,
      "outputs": [
        {
          "output_type": "stream",
          "name": "stdout",
          "text": [
            "Epoch 1/10\n",
            "1/1 [==============================] - 0s 65ms/step - loss: 0.3473 - accuracy: 0.8565\n",
            "Epoch 2/10\n",
            "1/1 [==============================] - 0s 34ms/step - loss: 0.3473 - accuracy: 0.8565\n",
            "Epoch 3/10\n",
            "1/1 [==============================] - 0s 28ms/step - loss: 0.3473 - accuracy: 0.8565\n",
            "Epoch 4/10\n",
            "1/1 [==============================] - 0s 29ms/step - loss: 0.3473 - accuracy: 0.8564\n",
            "Epoch 5/10\n",
            "1/1 [==============================] - 0s 31ms/step - loss: 0.3473 - accuracy: 0.8564\n",
            "Epoch 6/10\n",
            "1/1 [==============================] - 0s 32ms/step - loss: 0.3473 - accuracy: 0.8562\n",
            "Epoch 7/10\n",
            "1/1 [==============================] - 0s 31ms/step - loss: 0.3473 - accuracy: 0.8562\n",
            "Epoch 8/10\n",
            "1/1 [==============================] - 0s 35ms/step - loss: 0.3473 - accuracy: 0.8562\n",
            "Epoch 9/10\n",
            "1/1 [==============================] - 0s 37ms/step - loss: 0.3473 - accuracy: 0.8562\n",
            "Epoch 10/10\n",
            "1/1 [==============================] - 0s 34ms/step - loss: 0.3473 - accuracy: 0.8564\n"
          ]
        },
        {
          "output_type": "execute_result",
          "data": {
            "text/plain": [
              "<keras.src.callbacks.History at 0x78c890c30460>"
            ]
          },
          "metadata": {},
          "execution_count": 178
        }
      ]
    },
    {
      "cell_type": "code",
      "source": [
        "y_pred=classifier.predict(x_test)\n",
        "y_pred=np.where(y_pred>0.5,1,0)\n"
      ],
      "metadata": {
        "colab": {
          "base_uri": "https://localhost:8080/"
        },
        "id": "4mA0SbQzvjIK",
        "outputId": "9260d435-7787-4982-8e9a-5d2cb1d7b0b0"
      },
      "execution_count": 179,
      "outputs": [
        {
          "output_type": "stream",
          "name": "stdout",
          "text": [
            "63/63 [==============================] - 0s 2ms/step\n"
          ]
        }
      ]
    },
    {
      "cell_type": "code",
      "source": [
        "score=accuracy_score(y_test,y_pred)\n",
        "print(f\"Accuracy score {score*100}\")"
      ],
      "metadata": {
        "colab": {
          "base_uri": "https://localhost:8080/"
        },
        "id": "JnLAeT5fvMcl",
        "outputId": "7314a9bc-19c6-415a-916d-8af3b33a70cd"
      },
      "execution_count": 180,
      "outputs": [
        {
          "output_type": "stream",
          "name": "stdout",
          "text": [
            "Accuracy score 85.35000000000001\n"
          ]
        }
      ]
    },
    {
      "cell_type": "code",
      "source": [
        "model=Sequential()"
      ],
      "metadata": {
        "id": "60tEjcXaxz6F"
      },
      "execution_count": 152,
      "outputs": []
    },
    {
      "cell_type": "code",
      "source": [
        "!pip install keras-tuner"
      ],
      "metadata": {
        "colab": {
          "base_uri": "https://localhost:8080/"
        },
        "id": "mDa_ED1i4Fww",
        "outputId": "670e2f87-737b-474a-ae3a-cad9a4bc8ea1"
      },
      "execution_count": 1,
      "outputs": [
        {
          "output_type": "stream",
          "name": "stdout",
          "text": [
            "Collecting keras-tuner\n",
            "  Downloading keras_tuner-1.4.6-py3-none-any.whl (128 kB)\n",
            "\u001b[2K     \u001b[90m━━━━━━━━━━━━━━━━━━━━━━━━━━━━━━━━━━━━━━━━\u001b[0m \u001b[32m128.9/128.9 kB\u001b[0m \u001b[31m2.4 MB/s\u001b[0m eta \u001b[36m0:00:00\u001b[0m\n",
            "\u001b[?25hRequirement already satisfied: keras in /usr/local/lib/python3.10/dist-packages (from keras-tuner) (2.15.0)\n",
            "Requirement already satisfied: packaging in /usr/local/lib/python3.10/dist-packages (from keras-tuner) (23.2)\n",
            "Requirement already satisfied: requests in /usr/local/lib/python3.10/dist-packages (from keras-tuner) (2.31.0)\n",
            "Collecting kt-legacy (from keras-tuner)\n",
            "  Downloading kt_legacy-1.0.5-py3-none-any.whl (9.6 kB)\n",
            "Requirement already satisfied: charset-normalizer<4,>=2 in /usr/local/lib/python3.10/dist-packages (from requests->keras-tuner) (3.3.2)\n",
            "Requirement already satisfied: idna<4,>=2.5 in /usr/local/lib/python3.10/dist-packages (from requests->keras-tuner) (3.6)\n",
            "Requirement already satisfied: urllib3<3,>=1.21.1 in /usr/local/lib/python3.10/dist-packages (from requests->keras-tuner) (2.0.7)\n",
            "Requirement already satisfied: certifi>=2017.4.17 in /usr/local/lib/python3.10/dist-packages (from requests->keras-tuner) (2023.11.17)\n",
            "Installing collected packages: kt-legacy, keras-tuner\n",
            "Successfully installed keras-tuner-1.4.6 kt-legacy-1.0.5\n"
          ]
        }
      ]
    },
    {
      "cell_type": "code",
      "source": [
        "import kerastuner as kt\n",
        "from tensorflow.keras.optimizers import RMSprop, Adam, SGD, Nadam, Adadelta"
      ],
      "metadata": {
        "id": "Ahshh_vP4ETg"
      },
      "execution_count": 153,
      "outputs": []
    },
    {
      "cell_type": "code",
      "source": [
        "def build_model(hp):\n",
        "  model=Sequential()\n",
        "  counter=0\n",
        "  for i in range(hp.Int('num_layers',min_value=1,max_value=10)):\n",
        "    if counter==0:\n",
        "      model.add(Dense(hp.Int('units'+str(i),min_value=8,max_value=128,step=8),activation=hp.Choice('activation'+str(i),values=['relu','tanh','sigmoid']),input_dim=11))\n",
        "    else:\n",
        "      model.add(\n",
        "          Dense(hp.Int('units'+str(i),min_value=8,max_value=128,step=8),\n",
        "                activation=hp.Choice('activation'+str(i),values=['relu','tanh','sigmoid'])))\n",
        "    counter+=1\n",
        "\n",
        "  model.add(Dense(1,activation='sigmoid'))\n",
        "  optimizer_choice = hp.Choice('optimizer', values=['rmsprop', 'adam', 'sgd', 'nadam', 'adadelta'])\n",
        "  if optimizer_choice == 'rmsprop':\n",
        "    optimizer = RMSprop(learning_rate=hp.Float('learning_rate', min_value=1e-4, max_value=1e-2, sampling='log'))\n",
        "  elif optimizer_choice == 'adam':\n",
        "    optimizer = Adam(learning_rate=hp.Float('learning_rate', min_value=1e-4, max_value=1e-2, sampling='log'))\n",
        "  elif optimizer_choice == 'sgd':\n",
        "    optimizer = SGD(learning_rate=hp.Float('learning_rate', min_value=1e-4, max_value=1e-2, sampling='log'))\n",
        "  elif optimizer_choice == 'nadam':\n",
        "    optimizer = Nadam(learning_rate=hp.Float('learning_rate', min_value=1e-4, max_value=1e-2, sampling='log'))\n",
        "  elif optimizer_choice == 'adadelta':\n",
        "    optimizer = Adadelta(learning_rate=hp.Float('learning_rate', min_value=1e-4, max_value=1e-2, sampling='log'))\n",
        "\n",
        "\n",
        "\n",
        "\n",
        "\n",
        "  model.compile(optimizer=hp.Choice('optimizer',values=['rmsprop','adam','sgd','nadam','adadelta']),\n",
        "                loss='binary_crossentropy',\n",
        "                metrics=['accuracy'])\n",
        "  return model\n",
        "tuner=kt.RandomSearch(build_model,\n",
        "                      objective='val_accuracy',\n",
        "                      max_trials=3,\n",
        "                      directory=\"mydirectory\",\n",
        "                      project_name='final')\n",
        "tuner.search(x_train,y_train,epochs=5,validation_data=(x_test,y_test),\n",
        "             )\n",
        "\n"
      ],
      "metadata": {
        "colab": {
          "base_uri": "https://localhost:8080/"
        },
        "id": "8AN7lUmIyFmz",
        "outputId": "c40c88cd-c096-4bb5-ce25-99fc71d902d6"
      },
      "execution_count": 154,
      "outputs": [
        {
          "output_type": "stream",
          "name": "stdout",
          "text": [
            "Reloading Tuner from mydirectory/final/tuner0.json\n"
          ]
        }
      ]
    },
    {
      "cell_type": "code",
      "source": [
        "tuner.get_best_hyperparameters()[0].values"
      ],
      "metadata": {
        "colab": {
          "base_uri": "https://localhost:8080/"
        },
        "id": "WdKiDJNVSHSz",
        "outputId": "ac573cf8-a508-49f1-a13e-e52b75867a37"
      },
      "execution_count": 155,
      "outputs": [
        {
          "output_type": "execute_result",
          "data": {
            "text/plain": [
              "{'num_layers': 9,\n",
              " 'units0': 72,\n",
              " 'activation0': 'relu',\n",
              " 'optimizer': 'nadam',\n",
              " 'learning_rate': 0.0005418031892376496,\n",
              " 'units1': 48,\n",
              " 'activation1': 'sigmoid',\n",
              " 'units2': 72,\n",
              " 'activation2': 'relu',\n",
              " 'units3': 48,\n",
              " 'activation3': 'tanh',\n",
              " 'units4': 56,\n",
              " 'activation4': 'relu',\n",
              " 'units5': 16,\n",
              " 'activation5': 'tanh',\n",
              " 'units6': 24,\n",
              " 'activation6': 'tanh',\n",
              " 'units7': 104,\n",
              " 'activation7': 'relu',\n",
              " 'units8': 8,\n",
              " 'activation8': 'relu'}"
            ]
          },
          "metadata": {},
          "execution_count": 155
        }
      ]
    },
    {
      "cell_type": "code",
      "source": [
        "model=tuner.get_best_models(num_models=1)[0]"
      ],
      "metadata": {
        "id": "Z46L_j8jSjks"
      },
      "execution_count": 135,
      "outputs": []
    },
    {
      "cell_type": "code",
      "source": [
        "model.summary()"
      ],
      "metadata": {
        "colab": {
          "base_uri": "https://localhost:8080/"
        },
        "id": "plY0RZFlS8iW",
        "outputId": "1c107db1-32a1-479d-8eff-18b133ccd591"
      },
      "execution_count": 136,
      "outputs": [
        {
          "output_type": "stream",
          "name": "stdout",
          "text": [
            "Model: \"sequential\"\n",
            "_________________________________________________________________\n",
            " Layer (type)                Output Shape              Param #   \n",
            "=================================================================\n",
            " dense (Dense)               (None, 72)                864       \n",
            "                                                                 \n",
            " dense_1 (Dense)             (None, 48)                3504      \n",
            "                                                                 \n",
            " dense_2 (Dense)             (None, 72)                3528      \n",
            "                                                                 \n",
            " dense_3 (Dense)             (None, 48)                3504      \n",
            "                                                                 \n",
            " dense_4 (Dense)             (None, 56)                2744      \n",
            "                                                                 \n",
            " dense_5 (Dense)             (None, 16)                912       \n",
            "                                                                 \n",
            " dense_6 (Dense)             (None, 24)                408       \n",
            "                                                                 \n",
            " dense_7 (Dense)             (None, 104)               2600      \n",
            "                                                                 \n",
            " dense_8 (Dense)             (None, 8)                 840       \n",
            "                                                                 \n",
            " dense_9 (Dense)             (None, 1)                 9         \n",
            "                                                                 \n",
            "=================================================================\n",
            "Total params: 18913 (73.88 KB)\n",
            "Trainable params: 18913 (73.88 KB)\n",
            "Non-trainable params: 0 (0.00 Byte)\n",
            "_________________________________________________________________\n"
          ]
        }
      ]
    },
    {
      "cell_type": "code",
      "source": [
        "model.fit(x_train,y_train,epochs=5,validation_data=(x_test,y_test))"
      ],
      "metadata": {
        "colab": {
          "base_uri": "https://localhost:8080/"
        },
        "id": "praayiryTNWa",
        "outputId": "7bf81a0d-8e87-46e6-af4b-6dbed9727804"
      },
      "execution_count": 137,
      "outputs": [
        {
          "output_type": "stream",
          "name": "stdout",
          "text": [
            "Epoch 1/5\n",
            "250/250 [==============================] - 6s 6ms/step - loss: 0.3383 - accuracy: 0.8599 - val_loss: 0.3361 - val_accuracy: 0.8650\n",
            "Epoch 2/5\n",
            "250/250 [==============================] - 1s 5ms/step - loss: 0.3365 - accuracy: 0.8601 - val_loss: 0.3353 - val_accuracy: 0.8590\n",
            "Epoch 3/5\n",
            "250/250 [==============================] - 1s 5ms/step - loss: 0.3333 - accuracy: 0.8616 - val_loss: 0.3340 - val_accuracy: 0.8620\n",
            "Epoch 4/5\n",
            "250/250 [==============================] - 1s 5ms/step - loss: 0.3327 - accuracy: 0.8629 - val_loss: 0.3397 - val_accuracy: 0.8655\n",
            "Epoch 5/5\n",
            "250/250 [==============================] - 1s 5ms/step - loss: 0.3325 - accuracy: 0.8611 - val_loss: 0.3414 - val_accuracy: 0.8675\n"
          ]
        },
        {
          "output_type": "execute_result",
          "data": {
            "text/plain": [
              "<keras.src.callbacks.History at 0x78c893bcaf80>"
            ]
          },
          "metadata": {},
          "execution_count": 137
        }
      ]
    },
    {
      "cell_type": "code",
      "source": [],
      "metadata": {
        "id": "oFiFw8Y6U_qa"
      },
      "execution_count": null,
      "outputs": []
    },
    {
      "cell_type": "code",
      "source": [
        ""
      ],
      "metadata": {
        "id": "Frga1HYzsyOR"
      },
      "execution_count": null,
      "outputs": []
    }
  ]
}